{
 "cells": [
  {
   "cell_type": "code",
   "execution_count": 180,
   "metadata": {},
   "outputs": [],
   "source": [
    "import numpy\n",
    "\n",
    "file = open('data/18.txt', 'r')\n",
    "data = file.read()\n",
    "\n",
    "file.close()"
   ]
  },
  {
   "cell_type": "code",
   "execution_count": 181,
   "metadata": {},
   "outputs": [
    {
     "data": {
      "text/plain": [
       "4444"
      ]
     },
     "execution_count": 181,
     "metadata": {},
     "output_type": "execute_result"
    }
   ],
   "source": [
    "size = 25\n",
    "cubes = numpy.zeros((size, size, size))\n",
    "\n",
    "for line in data.splitlines():\n",
    "    x, y, z = list(map(int, line.split(',')))\n",
    "    cubes[x][y][z] = 1\n",
    "\n",
    "edges = 0\n",
    "\n",
    "def test_cube(x, y, z):\n",
    "    edges = 0\n",
    "\n",
    "    if cubes[x][y][z]:\n",
    "        if not cubes[x - 1][y][z]:\n",
    "            edges += 1\n",
    "\n",
    "        if not cubes[x + 1][y][z]:\n",
    "            edges += 1\n",
    "\n",
    "        if not cubes[x][y - 1][z]:\n",
    "            edges += 1\n",
    "\n",
    "        if not cubes[x][y + 1][z]:\n",
    "            edges += 1\n",
    "\n",
    "        if not cubes[x][y][z - 1]:\n",
    "            edges += 1\n",
    "\n",
    "        if not cubes[x][y][z + 1]:\n",
    "            edges += 1\n",
    "\n",
    "    return edges\n",
    "\n",
    "edges = 0\n",
    "\n",
    "for x in range(-1, size):\n",
    "    for y in range(-1, size):\n",
    "        for z in range(-1, size):\n",
    "            edges += test_cube(x, y, z)\n",
    "\n",
    "edges"
   ]
  },
  {
   "cell_type": "code",
   "execution_count": 182,
   "metadata": {},
   "outputs": [
    {
     "data": {
      "text/plain": [
       "2530"
      ]
     },
     "execution_count": 182,
     "metadata": {},
     "output_type": "execute_result"
    }
   ],
   "source": [
    "import fill_voids\n",
    "\n",
    "fill_voids.fill(cubes, in_place=True)\n",
    "\n",
    "edges = 0\n",
    "\n",
    "for x in range(-1, size):\n",
    "    for y in range(-1, size):\n",
    "        for z in range(-1, size):\n",
    "            edges += test_cube(x, y, z)\n",
    "\n",
    "edges"
   ]
  }
 ],
 "metadata": {
  "kernelspec": {
   "display_name": "Python 3.10.8 64-bit",
   "language": "python",
   "name": "python3"
  },
  "language_info": {
   "codemirror_mode": {
    "name": "ipython",
    "version": 3
   },
   "file_extension": ".py",
   "mimetype": "text/x-python",
   "name": "python",
   "nbconvert_exporter": "python",
   "pygments_lexer": "ipython3",
   "version": "3.10.8"
  },
  "orig_nbformat": 4,
  "vscode": {
   "interpreter": {
    "hash": "b0fa6594d8f4cbf19f97940f81e996739fb7646882a419484c72d19e05852a7e"
   }
  }
 },
 "nbformat": 4,
 "nbformat_minor": 2
}
