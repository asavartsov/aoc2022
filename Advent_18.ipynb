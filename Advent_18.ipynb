{
 "cells": [
  {
   "cell_type": "code",
   "execution_count": 42,
   "metadata": {},
   "outputs": [],
   "source": [
    "import numpy\n",
    "import scipy\n",
    "\n",
    "file = open('data/18.txt', 'r')\n",
    "data = file.read()\n",
    "\n",
    "file.close()"
   ]
  },
  {
   "cell_type": "code",
   "execution_count": 43,
   "metadata": {},
   "outputs": [
    {
     "data": {
      "text/plain": [
       "4444"
      ]
     },
     "execution_count": 43,
     "metadata": {},
     "output_type": "execute_result"
    }
   ],
   "source": [
    "size = 25\n",
    "cubes = numpy.zeros((size, size, size), dtype=numpy.int8)\n",
    "\n",
    "for line in data.splitlines():\n",
    "    x, y, z = list(map(int, line.split(',')))\n",
    "    cubes[x, y, z] = True\n",
    "\n",
    "def neighbours(x, y, z):\n",
    "    for d in (-1, 1):\n",
    "        yield not cubes[x + d, y, z]\n",
    "        yield not cubes[x, y + d, z]\n",
    "        yield not cubes[x, y, z + d]\n",
    "\n",
    "def test_cube(x, y, z):\n",
    "    if cubes[x, y, z]:\n",
    "        return sum(neighbours(x, y, z))\n",
    "\n",
    "    return 0\n",
    "\n",
    "edges = 0\n",
    "\n",
    "for x in range(-1, size):\n",
    "    for y in range(-1, size):\n",
    "        for z in range(-1, size):\n",
    "            edges += test_cube(x, y, z)\n",
    "\n",
    "edges"
   ]
  },
  {
   "cell_type": "code",
   "execution_count": 44,
   "metadata": {},
   "outputs": [
    {
     "data": {
      "text/plain": [
       "2530"
      ]
     },
     "execution_count": 44,
     "metadata": {},
     "output_type": "execute_result"
    }
   ],
   "source": [
    "cubes = scipy.ndimage.binary_fill_holes(cubes)\n",
    "\n",
    "edges = 0\n",
    "\n",
    "for x in range(-1, size):\n",
    "    for y in range(-1, size):\n",
    "        for z in range(-1, size):\n",
    "            edges += test_cube(x, y, z)\n",
    "\n",
    "edges"
   ]
  }
 ],
 "metadata": {
  "kernelspec": {
   "display_name": "Python 3",
   "language": "python",
   "name": "python3"
  },
  "language_info": {
   "codemirror_mode": {
    "name": "ipython",
    "version": 3
   },
   "file_extension": ".py",
   "mimetype": "text/x-python",
   "name": "python",
   "nbconvert_exporter": "python",
   "pygments_lexer": "ipython3",
   "version": "3.9.16 (2052e048bf8744bdb3a5b17596639503757601ef, Dec 19 2022, 03:27:04)\n[PyPy 7.3.12-alpha0 with GCC Apple LLVM 13.1.6 (clang-1316.0.21.2.5)]"
  },
  "orig_nbformat": 4,
  "vscode": {
   "interpreter": {
    "hash": "12ca00db4270a7b089476646ae7465d2a5aebdce74e8cedfe4cf672610d87b70"
   }
  }
 },
 "nbformat": 4,
 "nbformat_minor": 2
}
