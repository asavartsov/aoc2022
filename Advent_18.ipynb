{
 "cells": [
  {
   "cell_type": "code",
   "execution_count": 1,
   "metadata": {},
   "outputs": [],
   "source": [
    "import numpy\n",
    "import scipy\n",
    "\n",
    "file = open('data/18.txt', 'r')\n",
    "data = file.read()\n",
    "\n",
    "file.close()"
   ]
  },
  {
   "cell_type": "code",
   "execution_count": 8,
   "metadata": {},
   "outputs": [
    {
     "data": {
      "text/plain": [
       "4444"
      ]
     },
     "execution_count": 8,
     "metadata": {},
     "output_type": "execute_result"
    }
   ],
   "source": [
    "size = 25\n",
    "cubes = numpy.zeros((size, size, size), dtype=numpy.int8)\n",
    "\n",
    "for line in data.splitlines():\n",
    "    x, y, z = list(map(int, line.split(',')))\n",
    "    cubes[x, y, z] = True\n",
    "\n",
    "def neighbours(x, y, z):\n",
    "    for d in (-1, 1):\n",
    "        yield not cubes[x + d, y, z]\n",
    "        yield not cubes[x, y + d, z]\n",
    "        yield not cubes[x, y, z + d]\n",
    "\n",
    "def test_cube(x, y, z):\n",
    "    if cubes[x, y, z]:\n",
    "        return sum(neighbours(x, y, z))\n",
    "\n",
    "    return 0\n",
    "\n",
    "edges = 0\n",
    "\n",
    "for x in range(-1, size):\n",
    "    for y in range(-1, size):\n",
    "        for z in range(-1, size):\n",
    "            edges += test_cube(x, y, z)\n",
    "\n",
    "edges"
   ]
  },
  {
   "cell_type": "code",
   "execution_count": 9,
   "metadata": {},
   "outputs": [
    {
     "data": {
      "text/plain": [
       "2530"
      ]
     },
     "execution_count": 9,
     "metadata": {},
     "output_type": "execute_result"
    }
   ],
   "source": [
    "cubes = scipy.ndimage.binary_fill_holes(cubes)\n",
    "\n",
    "edges = 0\n",
    "\n",
    "for x in range(-1, size):\n",
    "    for y in range(-1, size):\n",
    "        for z in range(-1, size):\n",
    "            edges += test_cube(x, y, z)\n",
    "\n",
    "edges"
   ]
  },
  {
   "attachments": {},
   "cell_type": "markdown",
   "metadata": {},
   "source": [
    "# No-library solution for part 2\n",
    "\n",
    "Flood fill outer region starting from 0,0,0"
   ]
  },
  {
   "cell_type": "code",
   "execution_count": 3,
   "metadata": {},
   "outputs": [
    {
     "data": {
      "text/plain": [
       "2530"
      ]
     },
     "execution_count": 3,
     "metadata": {},
     "output_type": "execute_result"
    }
   ],
   "source": [
    "edges = 0\n",
    "queue = [(0, 0, 0)]\n",
    "\n",
    "# Flood fill empty surroundings with 2 starting from 0, 0, 0\n",
    "while queue:\n",
    "    x, y, z = queue.pop()\n",
    "\n",
    "    if cubes[x, y, z] == 1:\n",
    "        edges += 1\n",
    "\n",
    "    if cubes[x, y, z] > 0:\n",
    "        continue\n",
    "\n",
    "    cubes[x, y, z] = 2\n",
    "\n",
    "    for d in (-1, 1):\n",
    "        queue.append(((x + d) % size, y, z))\n",
    "        queue.append((x, (y + d) % size, z))\n",
    "        queue.append((x, y, (z + d) % size))\n",
    "\n",
    "edges"
   ]
  }
 ],
 "metadata": {
  "kernelspec": {
   "display_name": "Python 3",
   "language": "python",
   "name": "python3"
  },
  "language_info": {
   "codemirror_mode": {
    "name": "ipython",
    "version": 3
   },
   "file_extension": ".py",
   "mimetype": "text/x-python",
   "name": "python",
   "nbconvert_exporter": "python",
   "pygments_lexer": "ipython3",
   "version": "3.10.9"
  },
  "orig_nbformat": 4,
  "vscode": {
   "interpreter": {
    "hash": "b0fa6594d8f4cbf19f97940f81e996739fb7646882a419484c72d19e05852a7e"
   }
  }
 },
 "nbformat": 4,
 "nbformat_minor": 2
}
