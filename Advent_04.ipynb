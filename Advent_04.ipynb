{
 "cells": [
  {
   "cell_type": "code",
   "execution_count": 1,
   "metadata": {},
   "outputs": [],
   "source": [
    "import numpy\n",
    "\n",
    "file = open('data/04.txt', 'r')\n",
    "data = file.read()\n",
    "\n",
    "file.close()"
   ]
  },
  {
   "cell_type": "code",
   "execution_count": 2,
   "metadata": {},
   "outputs": [],
   "source": [
    "def fully_contains(a, b, c, d):\n",
    "    return (c >= a and d <= b) or (a >= c and b <= d)"
   ]
  },
  {
   "cell_type": "code",
   "execution_count": 3,
   "metadata": {},
   "outputs": [],
   "source": [
    "def overlaps(a, b, c, d):\n",
    "    return max(a, c) <= min(b, d)"
   ]
  },
  {
   "cell_type": "code",
   "execution_count": 4,
   "metadata": {},
   "outputs": [
    {
     "name": "stdout",
     "output_type": "stream",
     "text": [
      "602\n",
      "891\n"
     ]
    }
   ],
   "source": [
    "\n",
    "full = 0\n",
    "overlap = 0\n",
    "\n",
    "for line in data.splitlines():\n",
    "    e1, e2 = line.split(',')\n",
    "    a, b, c, d = list(map(int, e1.split('-') + e2.split('-')))\n",
    "\n",
    "    if (fully_contains(a, b, c, d)):\n",
    "        full += 1\n",
    "\n",
    "    if (overlaps(a, b, c, d)):\n",
    "        overlap += 1\n",
    "\n",
    "print(full)\n",
    "print(overlap)"
   ]
  }
 ],
 "metadata": {
  "kernelspec": {
   "display_name": "Python 3.10.8 64-bit",
   "language": "python",
   "name": "python3"
  },
  "language_info": {
   "codemirror_mode": {
    "name": "ipython",
    "version": 3
   },
   "file_extension": ".py",
   "mimetype": "text/x-python",
   "name": "python",
   "nbconvert_exporter": "python",
   "pygments_lexer": "ipython3",
   "version": "3.10.8"
  },
  "orig_nbformat": 4,
  "vscode": {
   "interpreter": {
    "hash": "b0fa6594d8f4cbf19f97940f81e996739fb7646882a419484c72d19e05852a7e"
   }
  }
 },
 "nbformat": 4,
 "nbformat_minor": 2
}
