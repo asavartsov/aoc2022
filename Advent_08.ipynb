{
 "cells": [
  {
   "cell_type": "code",
   "execution_count": 197,
   "metadata": {},
   "outputs": [],
   "source": [
    "file = open('data/08.txt', 'r')\n",
    "data = file.read()\n",
    "\n",
    "file.close()"
   ]
  },
  {
   "cell_type": "code",
   "execution_count": 198,
   "metadata": {},
   "outputs": [
    {
     "data": {
      "text/plain": [
       "1690"
      ]
     },
     "execution_count": 198,
     "metadata": {},
     "output_type": "execute_result"
    }
   ],
   "source": [
    "import numpy\n",
    "\n",
    "trees = []\n",
    "\n",
    "for line in data.splitlines():\n",
    "    trees.append(list(map(int, line)))\n",
    "\n",
    "trees = numpy.array(trees, numpy.int8)\n",
    "\n",
    "n_trees = sum(trees.shape) * 2 - 4\n",
    "n_rows, n_cols = trees.shape\n",
    "\n",
    "for i in range(1, n_rows - 1):\n",
    "    for j in range (1, n_cols - 1):\n",
    "        tree = trees[i, j]\n",
    "\n",
    "        if (\n",
    "            tree > max(trees[i, :j]) or # Left\n",
    "            tree > max(trees[i, j + 1:]) or # Right\n",
    "            tree > max(trees[:i, j]) or # Up\n",
    "            tree > max(trees[i + 1:, j]) # Down\n",
    "        ):\n",
    "            n_trees += 1\n",
    "\n",
    "n_trees"
   ]
  },
  {
   "cell_type": "code",
   "execution_count": 199,
   "metadata": {},
   "outputs": [],
   "source": [
    "def get_score(ti, tj):\n",
    "    left, right, up, down = 0, 0, 0, 0\n",
    "\n",
    "    for k in range(tj, 0, -1):\n",
    "        left += 1\n",
    "\n",
    "        if trees[ti, tj] <= trees[ti, k - 1]:\n",
    "            break\n",
    "\n",
    "    for k in range(tj, n_cols - 1):\n",
    "        right += 1\n",
    "        \n",
    "        if trees[ti, tj] <= trees[ti, k + 1]:\n",
    "            break\n",
    "    \n",
    "    for k in range(ti, 0, -1):\n",
    "        up += 1\n",
    "        \n",
    "        if trees[ti, tj] <= trees[k - 1, tj]:\n",
    "            break\n",
    "\n",
    "    for k in range(ti, n_rows - 1):\n",
    "        down += 1\n",
    "\n",
    "        if trees[ti, tj] <= trees[k + 1, tj]:\n",
    "            break\n",
    "\n",
    "    return left * right * up * down"
   ]
  },
  {
   "cell_type": "code",
   "execution_count": 200,
   "metadata": {},
   "outputs": [
    {
     "data": {
      "text/plain": [
       "535680"
      ]
     },
     "execution_count": 200,
     "metadata": {},
     "output_type": "execute_result"
    }
   ],
   "source": [
    "score = 0\n",
    "\n",
    "for i in range(1, n_rows):\n",
    "    for j in range (1, n_cols):\n",
    "        tree_score = get_score(i, j)\n",
    "\n",
    "        if tree_score > score:\n",
    "            score = tree_score\n",
    "\n",
    "score"
   ]
  }
 ],
 "metadata": {
  "kernelspec": {
   "display_name": "Python 3.10.8 64-bit",
   "language": "python",
   "name": "python3"
  },
  "language_info": {
   "codemirror_mode": {
    "name": "ipython",
    "version": 3
   },
   "file_extension": ".py",
   "mimetype": "text/x-python",
   "name": "python",
   "nbconvert_exporter": "python",
   "pygments_lexer": "ipython3",
   "version": "3.10.8"
  },
  "orig_nbformat": 4,
  "vscode": {
   "interpreter": {
    "hash": "b0fa6594d8f4cbf19f97940f81e996739fb7646882a419484c72d19e05852a7e"
   }
  }
 },
 "nbformat": 4,
 "nbformat_minor": 2
}
