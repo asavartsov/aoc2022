{
 "cells": [
  {
   "cell_type": "code",
   "execution_count": 8,
   "metadata": {},
   "outputs": [],
   "source": [
    "file = open('data/03.txt', 'r')\n",
    "data = file.read()\n",
    "\n",
    "file.close()"
   ]
  },
  {
   "cell_type": "code",
   "execution_count": 9,
   "metadata": {},
   "outputs": [],
   "source": [
    "# Lowercase item types a through z have priorities 1 through 26.\n",
    "# Uppercase item types A through Z have priorities 27 through 52.\n",
    "\n",
    "def get_priority(char):\n",
    "    code = ord(char)\n",
    "\n",
    "    if code >= ord('a'):\n",
    "        return code - ord('a') + 1\n",
    "\n",
    "    return code - ord('A') + 27"
   ]
  },
  {
   "cell_type": "code",
   "execution_count": 10,
   "metadata": {},
   "outputs": [
    {
     "data": {
      "text/plain": [
       "8039"
      ]
     },
     "execution_count": 10,
     "metadata": {},
     "output_type": "execute_result"
    }
   ],
   "source": [
    "duplicates = []\n",
    "\n",
    "for line in data.splitlines():\n",
    "    half = len(line) // 2\n",
    "    comp1, comp2 = set(line[:half]), set(line[half:])\n",
    "    \n",
    "    item = (comp1 & comp2).pop()\n",
    "    duplicates.append(get_priority(item))\n",
    "\n",
    "sum(duplicates)"
   ]
  },
  {
   "cell_type": "code",
   "execution_count": 11,
   "metadata": {},
   "outputs": [
    {
     "data": {
      "text/plain": [
       "2510"
      ]
     },
     "execution_count": 11,
     "metadata": {},
     "output_type": "execute_result"
    }
   ],
   "source": [
    "badges = []\n",
    "group = []\n",
    "\n",
    "for line in data.splitlines():\n",
    "    group.append(set(line))\n",
    "\n",
    "    if (len(group) == 3):\n",
    "        badge = set.intersection(*group).pop()\n",
    "        \n",
    "        badges.append(get_priority(badge))\n",
    "        group.clear()\n",
    "\n",
    "sum(badges)"
   ]
  }
 ],
 "metadata": {
  "kernelspec": {
   "display_name": "Python 3.10.8 64-bit",
   "language": "python",
   "name": "python3"
  },
  "language_info": {
   "codemirror_mode": {
    "name": "ipython",
    "version": 3
   },
   "file_extension": ".py",
   "mimetype": "text/x-python",
   "name": "python",
   "nbconvert_exporter": "python",
   "pygments_lexer": "ipython3",
   "version": "3.10.8"
  },
  "orig_nbformat": 4,
  "vscode": {
   "interpreter": {
    "hash": "b0fa6594d8f4cbf19f97940f81e996739fb7646882a419484c72d19e05852a7e"
   }
  }
 },
 "nbformat": 4,
 "nbformat_minor": 2
}
