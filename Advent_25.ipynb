{
 "cells": [
  {
   "cell_type": "code",
   "execution_count": 65,
   "metadata": {},
   "outputs": [],
   "source": [
    "file = open('data/25.txt', 'r')\n",
    "data = file.read()\n",
    "\n",
    "file.close()"
   ]
  },
  {
   "cell_type": "code",
   "execution_count": 66,
   "metadata": {},
   "outputs": [
    {
     "data": {
      "text/plain": [
       "'2-0-01==0-1=2212=100'"
      ]
     },
     "execution_count": 66,
     "metadata": {},
     "output_type": "execute_result"
    }
   ],
   "source": [
    "fuels = { '=': -2, '-': -1, '0': 0, '1': 1, '2': 2 }\n",
    "decimals = dict(map(reversed, fuels.items()))\n",
    "\n",
    "numbers = []\n",
    "\n",
    "def to_decimal(number):\n",
    "    return sum([(5 ** i) * fuels[c] for i, c in enumerate(reversed(number))])\n",
    "\n",
    "def to_fuel(number):\n",
    "    value = []\n",
    "    \n",
    "    while number > 0:\n",
    "        reminder = number % 5\n",
    "        if reminder > 2:\n",
    "            number += reminder\n",
    "            value.append(decimals[reminder - 5])\n",
    "        else:\n",
    "            value.append(str(reminder))\n",
    "\n",
    "        number //= 5\n",
    "    \n",
    "    return ''.join(reversed(value))\n",
    "\n",
    "for line in data.splitlines():\n",
    "    numbers.append(to_decimal(line))\n",
    "\n",
    "to_fuel(sum(numbers))"
   ]
  }
 ],
 "metadata": {
  "kernelspec": {
   "display_name": "Python 3",
   "language": "python",
   "name": "python3"
  },
  "language_info": {
   "codemirror_mode": {
    "name": "ipython",
    "version": 3
   },
   "file_extension": ".py",
   "mimetype": "text/x-python",
   "name": "python",
   "nbconvert_exporter": "python",
   "pygments_lexer": "ipython3",
   "version": "3.9.16"
  },
  "orig_nbformat": 4,
  "vscode": {
   "interpreter": {
    "hash": "12ca00db4270a7b089476646ae7465d2a5aebdce74e8cedfe4cf672610d87b70"
   }
  }
 },
 "nbformat": 4,
 "nbformat_minor": 2
}
