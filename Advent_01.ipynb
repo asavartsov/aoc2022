{
 "cells": [
  {
   "cell_type": "code",
   "execution_count": 3,
   "metadata": {},
   "outputs": [],
   "source": [
    "file = open('data/01.txt', 'r')\n",
    "data = file.read()\n",
    "file.close()"
   ]
  },
  {
   "cell_type": "code",
   "execution_count": 4,
   "metadata": {},
   "outputs": [
    {
     "name": "stdout",
     "output_type": "stream",
     "text": [
      "[69228.0, 71481.0, 71780.0]\n",
      "71780.0\n",
      "35\n"
     ]
    }
   ],
   "source": [
    "elfIndex = 0\n",
    "calories = [0]\n",
    "\n",
    "for line in data.splitlines():\n",
    "    if not line:\n",
    "        elfIndex += 1\n",
    "        calories.append(0)\n",
    "    else:\n",
    "        calories[elfIndex] += float(line)\n",
    "\n",
    "maxValue = 0\n",
    "maxIndex = 0\n",
    "\n",
    "for index in range(0, len(calories)):\n",
    "    if calories[index] > maxValue:\n",
    "        maxValue = calories[index]\n",
    "        maxIndex = index\n",
    "\n",
    "calories.sort()\n",
    "print(calories[-3:])\n",
    "\n",
    "print(maxValue)\n",
    "print(maxIndex + 1)"
   ]
  },
  {
   "cell_type": "code",
   "execution_count": 4,
   "metadata": {},
   "outputs": [
    {
     "data": {
      "text/plain": [
       "212489.0"
      ]
     },
     "execution_count": 4,
     "metadata": {},
     "output_type": "execute_result"
    }
   ],
   "source": [
    "69228 + 71481 + 71780.0"
   ]
  }
 ],
 "metadata": {
  "kernelspec": {
   "display_name": "Python 3.10.8 64-bit",
   "language": "python",
   "name": "python3"
  },
  "language_info": {
   "codemirror_mode": {
    "name": "ipython",
    "version": 3
   },
   "file_extension": ".py",
   "mimetype": "text/x-python",
   "name": "python",
   "nbconvert_exporter": "python",
   "pygments_lexer": "ipython3",
   "version": "3.10.8"
  },
  "orig_nbformat": 4,
  "vscode": {
   "interpreter": {
    "hash": "b0fa6594d8f4cbf19f97940f81e996739fb7646882a419484c72d19e05852a7e"
   }
  }
 },
 "nbformat": 4,
 "nbformat_minor": 2
}
