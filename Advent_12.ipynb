{
 "cells": [
  {
   "cell_type": "code",
   "execution_count": 315,
   "metadata": {},
   "outputs": [],
   "source": [
    "import numpy\n",
    "import networkx\n",
    "\n",
    "file = open('data/12.txt', 'r')\n",
    "data = file.read()\n",
    "\n",
    "file.close()"
   ]
  },
  {
   "cell_type": "code",
   "execution_count": 316,
   "metadata": {},
   "outputs": [],
   "source": [
    "start, end = 0, 0\n",
    "starts = []\n",
    "map = []\n",
    "\n",
    "position = 0\n",
    "\n",
    "for line in data.splitlines():\n",
    "    map.append([])\n",
    "\n",
    "    for char in line:\n",
    "        match char:\n",
    "            case 'a':\n",
    "                starts.append(position)\n",
    "            case 'S':\n",
    "                start = position\n",
    "                starts.append(position)\n",
    "                char = 'a'\n",
    "            case 'E':\n",
    "                end = position\n",
    "                char = 'z'\n",
    "        \n",
    "        map[-1].append(ord(char) - ord('a'))\n",
    "        position += 1\n"
   ]
  },
  {
   "cell_type": "code",
   "execution_count": 317,
   "metadata": {},
   "outputs": [],
   "source": [
    "G = networkx.DiGraph()\n",
    "map = numpy.array(map)\n",
    "h, w = map.shape\n",
    "\n",
    "def get_position(y, x):\n",
    "    return x + y * w\n",
    "\n",
    "for i in range(h):\n",
    "    for j in range(w):\n",
    "        if i + 1 < h:\n",
    "            edge = [get_position(i, j), get_position(i + 1, j)]\n",
    "            \n",
    "            distance = map[i + 1, j] - map[i, j]\n",
    "\n",
    "            if distance <= 1:\n",
    "                G.add_edge(*edge)\n",
    "\n",
    "            distance = -distance\n",
    "\n",
    "            if distance <= 1:\n",
    "                G.add_edge(*reversed(edge))\n",
    "\n",
    "        if j + 1 < w:\n",
    "            edge = [get_position(i, j), get_position(i, j + 1)]\n",
    "            distance = map[i, j + 1] - map[i, j]\n",
    "\n",
    "            if distance <= 1:\n",
    "                G.add_edge(*edge)\n",
    "\n",
    "            distance = -distance\n",
    "\n",
    "            if distance <= 1:\n",
    "                G.add_edge(*reversed(edge))"
   ]
  },
  {
   "cell_type": "code",
   "execution_count": 318,
   "metadata": {},
   "outputs": [
    {
     "data": {
      "text/plain": [
       "456"
      ]
     },
     "execution_count": 318,
     "metadata": {},
     "output_type": "execute_result"
    }
   ],
   "source": [
    "path = networkx.dijkstra_path(G, start, end)\n",
    "\n",
    "len(path) - 1"
   ]
  },
  {
   "cell_type": "code",
   "execution_count": 319,
   "metadata": {},
   "outputs": [
    {
     "data": {
      "text/plain": [
       "454"
      ]
     },
     "execution_count": 319,
     "metadata": {},
     "output_type": "execute_result"
    }
   ],
   "source": [
    "lens = []\n",
    "\n",
    "for s in starts:\n",
    "    try:\n",
    "        path = networkx.dijkstra_path(G, s, end)\n",
    "        lens.append(len(path) - 1)\n",
    "    except:\n",
    "        # No path to the end\n",
    "        pass\n",
    "\n",
    "min(lens)"
   ]
  }
 ],
 "metadata": {
  "kernelspec": {
   "display_name": "Python 3.10.8 64-bit",
   "language": "python",
   "name": "python3"
  },
  "language_info": {
   "codemirror_mode": {
    "name": "ipython",
    "version": 3
   },
   "file_extension": ".py",
   "mimetype": "text/x-python",
   "name": "python",
   "nbconvert_exporter": "python",
   "pygments_lexer": "ipython3",
   "version": "3.10.8"
  },
  "orig_nbformat": 4,
  "vscode": {
   "interpreter": {
    "hash": "b0fa6594d8f4cbf19f97940f81e996739fb7646882a419484c72d19e05852a7e"
   }
  }
 },
 "nbformat": 4,
 "nbformat_minor": 2
}
