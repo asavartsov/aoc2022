{
 "cells": [
  {
   "cell_type": "code",
   "execution_count": 13,
   "metadata": {},
   "outputs": [],
   "source": [
    "from multiprocess import Pool\n",
    "\n",
    "file = open('data/19.txt', 'r')\n",
    "data = file.read()\n",
    "\n",
    "file.close()"
   ]
  },
  {
   "cell_type": "code",
   "execution_count": 14,
   "metadata": {},
   "outputs": [],
   "source": [
    "import re\n",
    "import random\n",
    "\n",
    "RESOURCES = (1, 0.8, 0.5, 0.5)\n",
    "\n",
    "class Factory:\n",
    "    def __init__(self, blueprint):\n",
    "        # Geode, Obsidian, Clay, Ore\n",
    "        self.resources = [ 0, 0, 0, 0 ]\n",
    "\n",
    "        self.costs = [\n",
    "            [ 0, blueprint[5], 0, blueprint[4] ],\n",
    "            [ 0, 0, blueprint[3], blueprint[2] ],\n",
    "            [ 0, 0, 0,            blueprint[1] ],\n",
    "            [ 0, 0, 0,            blueprint[0] ]\n",
    "        ]\n",
    "\n",
    "    def can_build(self, robot):\n",
    "        cost = self.costs[robot]\n",
    "\n",
    "        for i in range(4):\n",
    "            if cost[i] > self.resources[i]:\n",
    "                return False\n",
    "\n",
    "        return True\n",
    "\n",
    "    def reduce_resources(self, robot):\n",
    "        cost = self.costs[robot]\n",
    "\n",
    "        for i in range(4):\n",
    "            self.resources[i] -= cost[i]\n",
    "\n",
    "    def build(self):\n",
    "        if self.resources[-1] == 0:\n",
    "            return None\n",
    "\n",
    "        # Fuck algorithms, let's be creative. \n",
    "        # Simulate harvest and decide randomly to build robots or not!\n",
    "        for n, p in enumerate(RESOURCES):\n",
    "            if self.can_build(n) and random.random() < p:\n",
    "                self.reduce_resources(n)\n",
    "                return n\n",
    "\n",
    "        return None"
   ]
  },
  {
   "cell_type": "code",
   "execution_count": 15,
   "metadata": {},
   "outputs": [],
   "source": [
    "blueprints = []\n",
    "\n",
    "for line in data.splitlines():\n",
    "    _, *blueprint = map(int, re.findall(r'\\d+', line))\n",
    "    blueprints.append(blueprint)"
   ]
  },
  {
   "cell_type": "code",
   "execution_count": 16,
   "metadata": {},
   "outputs": [],
   "source": [
    "def harvest(factory: Factory, time: int):\n",
    "    robots = [3]\n",
    "\n",
    "    for minute in range(time):\n",
    "        new = None\n",
    "\n",
    "        if minute > 0 and minute < time - 1:\n",
    "            new = factory.build()\n",
    "\n",
    "        for robot in robots:\n",
    "            factory.resources[robot] += 1\n",
    "\n",
    "        if new != None:\n",
    "            robots.append(new)\n",
    "\n",
    "    return factory.resources[0]\n",
    "\n",
    "def process_blueprint(blueprint, cycles: int, time: int):\n",
    "    compute = lambda _: harvest(Factory(blueprint), time)\n",
    "    \n",
    "    with Pool(processes=16) as pool:\n",
    "        return max(pool.map(compute, range(cycles)))        "
   ]
  },
  {
   "cell_type": "code",
   "execution_count": 17,
   "metadata": {},
   "outputs": [
    {
     "data": {
      "text/plain": [
       "1599"
      ]
     },
     "execution_count": 17,
     "metadata": {},
     "output_type": "execute_result"
    }
   ],
   "source": [
    "geodes = [process_blueprint(b, 10000, 24) for b in blueprints]\n",
    "answer = 0\n",
    "\n",
    "for i, v in enumerate(geodes):\n",
    "    answer += v * (i + 1)\n",
    "\n",
    "answer"
   ]
  },
  {
   "cell_type": "code",
   "execution_count": 19,
   "metadata": {},
   "outputs": [
    {
     "data": {
      "text/plain": [
       "14112"
      ]
     },
     "execution_count": 19,
     "metadata": {},
     "output_type": "execute_result"
    }
   ],
   "source": [
    "geodes = [process_blueprint(b, 1000000, 32) for b in blueprints[:3]]\n",
    "answer = 1\n",
    "\n",
    "for _, v in enumerate(geodes):\n",
    "    answer *= v\n",
    "\n",
    "answer"
   ]
  }
 ],
 "metadata": {
  "kernelspec": {
   "display_name": "Python 3.10.8 64-bit",
   "language": "python",
   "name": "python3"
  },
  "language_info": {
   "codemirror_mode": {
    "name": "ipython",
    "version": 3
   },
   "file_extension": ".py",
   "mimetype": "text/x-python",
   "name": "python",
   "nbconvert_exporter": "python",
   "pygments_lexer": "ipython3",
   "version": "3.10.8"
  },
  "orig_nbformat": 4,
  "vscode": {
   "interpreter": {
    "hash": "b0fa6594d8f4cbf19f97940f81e996739fb7646882a419484c72d19e05852a7e"
   }
  }
 },
 "nbformat": 4,
 "nbformat_minor": 2
}
