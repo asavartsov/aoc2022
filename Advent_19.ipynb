{
 "cells": [
  {
   "cell_type": "code",
   "execution_count": 12,
   "metadata": {},
   "outputs": [],
   "source": [
    "from multiprocess import Pool\n",
    "\n",
    "file = open('data/19.txt', 'r')\n",
    "data = file.read()\n",
    "\n",
    "file.close()"
   ]
  },
  {
   "attachments": {},
   "cell_type": "markdown",
   "metadata": {},
   "source": [
    "# Random seach\n",
    "\n",
    "This is my first ´random search´ solution that I did for fun but it worked so great that I took both stars with it and it gave best score of all days.\n",
    "\n",
    "Scroll down for proper solution."
   ]
  },
  {
   "cell_type": "code",
   "execution_count": 13,
   "metadata": {},
   "outputs": [],
   "source": [
    "import re\n",
    "import random\n",
    "\n",
    "RESOURCES = (1, 0.8, 0.5, 0.5)\n",
    "\n",
    "class Factory:\n",
    "    def __init__(self, blueprint):\n",
    "        # Geode, Obsidian, Clay, Ore\n",
    "        self.resources = [ 0, 0, 0, 0 ]\n",
    "\n",
    "        self.costs = [\n",
    "            [ 0, blueprint[5], 0, blueprint[4] ],\n",
    "            [ 0, 0, blueprint[3], blueprint[2] ],\n",
    "            [ 0, 0, 0,            blueprint[1] ],\n",
    "            [ 0, 0, 0,            blueprint[0] ]\n",
    "        ]\n",
    "\n",
    "    def can_build(self, robot):\n",
    "        cost = self.costs[robot]\n",
    "\n",
    "        for i in range(4):\n",
    "            if cost[i] > self.resources[i]:\n",
    "                return False\n",
    "\n",
    "        return True\n",
    "\n",
    "    def reduce_resources(self, robot):\n",
    "        cost = self.costs[robot]\n",
    "\n",
    "        for i in range(4):\n",
    "            self.resources[i] -= cost[i]\n",
    "\n",
    "    def build(self):\n",
    "        if self.resources[-1] == 0:\n",
    "            return None\n",
    "\n",
    "        # Fuck algorithms, let's be creative. \n",
    "        # Simulate harvest and decide randomly to build robots or not!\n",
    "        for n, p in enumerate(RESOURCES):\n",
    "            if self.can_build(n) and random.random() < p:\n",
    "                self.reduce_resources(n)\n",
    "                return n\n",
    "\n",
    "        return None"
   ]
  },
  {
   "cell_type": "code",
   "execution_count": 14,
   "metadata": {},
   "outputs": [],
   "source": [
    "blueprints = []\n",
    "\n",
    "for line in data.splitlines():\n",
    "    _, *blueprint = map(int, re.findall(r'\\d+', line))\n",
    "    blueprints.append(blueprint)"
   ]
  },
  {
   "cell_type": "code",
   "execution_count": 15,
   "metadata": {},
   "outputs": [],
   "source": [
    "def harvest(factory: Factory, time: int):\n",
    "    robots = [3]\n",
    "\n",
    "    for minute in range(time):\n",
    "        new = None\n",
    "\n",
    "        if minute > 0 and minute < time - 1:\n",
    "            new = factory.build()\n",
    "\n",
    "        for robot in robots:\n",
    "            factory.resources[robot] += 1\n",
    "\n",
    "        if new != None:\n",
    "            robots.append(new)\n",
    "\n",
    "    return factory.resources[0]\n",
    "\n",
    "def process_blueprint(blueprint, cycles: int, time: int):\n",
    "    compute = lambda _: harvest(Factory(blueprint), time)\n",
    "    \n",
    "    with Pool(processes=16) as pool:\n",
    "        return max(pool.map(compute, range(cycles)))        "
   ]
  },
  {
   "cell_type": "code",
   "execution_count": 16,
   "metadata": {},
   "outputs": [
    {
     "data": {
      "text/plain": [
       "1599"
      ]
     },
     "execution_count": 16,
     "metadata": {},
     "output_type": "execute_result"
    }
   ],
   "source": [
    "geodes = [process_blueprint(b, 10000, 24) for b in blueprints]\n",
    "answer = 0\n",
    "\n",
    "for i, v in enumerate(geodes):\n",
    "    answer += v * (i + 1)\n",
    "\n",
    "answer"
   ]
  },
  {
   "cell_type": "code",
   "execution_count": 17,
   "metadata": {},
   "outputs": [
    {
     "data": {
      "text/plain": [
       "14112"
      ]
     },
     "execution_count": 17,
     "metadata": {},
     "output_type": "execute_result"
    }
   ],
   "source": [
    "geodes = [process_blueprint(b, 1000000, 32) for b in blueprints[:3]]\n",
    "answer = 1\n",
    "\n",
    "for _, v in enumerate(geodes):\n",
    "    answer *= v\n",
    "\n",
    "answer"
   ]
  },
  {
   "attachments": {},
   "cell_type": "markdown",
   "metadata": {},
   "source": [
    "# DFS search with optimizations\n",
    "\n",
    "I keep state in a tuple of complex numbers where real part is amount of resources, imaginary part is amount of robots - just to keep code shorter.\n",
    "\n",
    "Instead of building minute by minute, I calculate time needed to build each type of robot with given resources and fast-forward useless branches. I always build geode robot if possible and I don not build more robots than resources needed to build any robot which depends on it: we can build only one robot at a time anyway."
   ]
  },
  {
   "cell_type": "code",
   "execution_count": 170,
   "metadata": {},
   "outputs": [],
   "source": [
    "import re\n",
    "from math import ceil\n",
    "\n",
    "with open('data/19.txt', 'r') as file:\n",
    "    data = file.read()\n",
    "\n",
    "blueprints = []\n",
    "\n",
    "for line in data.splitlines():\n",
    "    _, *blueprint = map(int, re.findall(r'\\d+', line))\n",
    "    blueprints.append(blueprint)\n",
    "\n",
    "def collect(state, times):\n",
    "    return [complex(v.real + v.imag * times, v.imag) for v in state]\n",
    "\n",
    "def pay(state, robot, n):\n",
    "    paid = [a - b for a, b in zip(state, robot)]\n",
    "    paid[n] += 1j\n",
    "    \n",
    "    return tuple(paid)\n",
    "\n",
    "def build(state, costs, time, limit):\n",
    "    for n, robot in enumerate(costs):\n",
    "        # Do not build useless robots (we already have enough to fullfil any robot in 1 minute)\n",
    "        if n > 0 and state[n].imag == max(map(lambda c: c[n], costs)):\n",
    "            continue\n",
    "\n",
    "        # Resources and costs for the robot\n",
    "        resources = [(a, b) for a, b in zip(state, robot) if b]\n",
    "\n",
    "        # If we have robots to harvest resource for this robot\n",
    "        if all(map(lambda a: a[0].imag, resources)):\n",
    "            # When the robot can be built?\n",
    "            wait = max(ceil((b - a.real) / a.imag) for a, b in resources)\n",
    "            \n",
    "            # Probably, now, anyway add 1 minute to build it\n",
    "            wait = 1 if wait < 0 else wait + 1\n",
    "\n",
    "            if time + wait <= limit:\n",
    "                collected = collect(state, wait)\n",
    "                yield pay(collected, robot, n), wait\n",
    "\n",
    "                # If we can build geode now, let's not consider other options\n",
    "                if n == 0 and wait == 1:\n",
    "                    break"
   ]
  },
  {
   "cell_type": "code",
   "execution_count": 171,
   "metadata": {},
   "outputs": [],
   "source": [
    "def dfs(blueprint, limit):\n",
    "    costs = [\n",
    "        [0, blueprint[5], 0, blueprint[4]],\n",
    "        [0, 0, blueprint[3], blueprint[2]],\n",
    "        [0, 0, 0,            blueprint[1]],\n",
    "        [0, 0, 0,            blueprint[0]],\n",
    "    ]\n",
    "\n",
    "    time = 0\n",
    "    geodes = 0\n",
    "    start = (0j, 0j, 0j, 1j)\n",
    "    visited = set((start, time))\n",
    "    queue = [(start, time)]\n",
    "\n",
    "    while queue:\n",
    "        state, time = queue.pop()\n",
    "\n",
    "        if time == limit:\n",
    "            geodes = max(geodes, int(state[0].real))\n",
    "            continue\n",
    "\n",
    "        for neighbour, steps in build(state, costs, time, limit):\n",
    "            candidate = (neighbour, time + steps)\n",
    "\n",
    "            if candidate not in visited:\n",
    "                queue.append(candidate)\n",
    "                visited.add(candidate)\n",
    "\n",
    "    return geodes"
   ]
  },
  {
   "attachments": {},
   "cell_type": "markdown",
   "metadata": {},
   "source": [
    "# Star 1"
   ]
  },
  {
   "cell_type": "code",
   "execution_count": 173,
   "metadata": {},
   "outputs": [
    {
     "data": {
      "text/plain": [
       "1599"
      ]
     },
     "execution_count": 173,
     "metadata": {},
     "output_type": "execute_result"
    }
   ],
   "source": [
    "answer = 0\n",
    "\n",
    "for i, blueprint in enumerate(blueprints):\n",
    "    answer += dfs(blueprint, 24) * (i + 1)\n",
    "\n",
    "int(answer)"
   ]
  },
  {
   "attachments": {},
   "cell_type": "markdown",
   "metadata": {},
   "source": [
    "# Star 2"
   ]
  },
  {
   "cell_type": "code",
   "execution_count": 169,
   "metadata": {},
   "outputs": [
    {
     "data": {
      "text/plain": [
       "14112"
      ]
     },
     "execution_count": 169,
     "metadata": {},
     "output_type": "execute_result"
    }
   ],
   "source": [
    "answer = 1\n",
    "\n",
    "for blueprint in blueprints[:3]:\n",
    "    answer *= dfs(blueprint, 32)\n",
    "\n",
    "int(answer)"
   ]
  }
 ],
 "metadata": {
  "kernelspec": {
   "display_name": "Python 3",
   "language": "python",
   "name": "python3"
  },
  "language_info": {
   "codemirror_mode": {
    "name": "ipython",
    "version": 3
   },
   "file_extension": ".py",
   "mimetype": "text/x-python",
   "name": "python",
   "nbconvert_exporter": "python",
   "pygments_lexer": "ipython3",
   "version": "3.9.16 (2052e048bf8744bdb3a5b17596639503757601ef, Dec 19 2022, 03:27:04)\n[PyPy 7.3.12-alpha0 with GCC Apple LLVM 13.1.6 (clang-1316.0.21.2.5)]"
  },
  "orig_nbformat": 4,
  "vscode": {
   "interpreter": {
    "hash": "12ca00db4270a7b089476646ae7465d2a5aebdce74e8cedfe4cf672610d87b70"
   }
  }
 },
 "nbformat": 4,
 "nbformat_minor": 2
}
