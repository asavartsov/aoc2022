{
 "cells": [
  {
   "cell_type": "code",
   "execution_count": 84,
   "metadata": {},
   "outputs": [],
   "source": [
    "file = open('data/13.txt', 'r')\n",
    "data = file.read().split('\\n\\n')\n",
    "\n",
    "file.close()"
   ]
  },
  {
   "cell_type": "code",
   "execution_count": 85,
   "metadata": {},
   "outputs": [],
   "source": [
    "pairs = []\n",
    "\n",
    "for pair in data:\n",
    "    pairs.append(list(map(eval, pair.splitlines())))"
   ]
  },
  {
   "cell_type": "code",
   "execution_count": 86,
   "metadata": {},
   "outputs": [],
   "source": [
    "CORRECT, NEXT, WRONG = -1, 0, 1\n",
    "\n",
    "def check(left, right):\n",
    "    if isinstance(left, int) and isinstance(right, int):\n",
    "        if left < right:\n",
    "            return CORRECT\n",
    "\n",
    "        if left == right:\n",
    "            return NEXT\n",
    "\n",
    "        return WRONG\n",
    "    \n",
    "    if isinstance(left, int):\n",
    "        left = [left]\n",
    "\n",
    "    if isinstance(right, int):\n",
    "        right = [right]\n",
    "            \n",
    "    for index in range(max(len(left), len(right))):\n",
    "        if index == len(left):\n",
    "            return CORRECT\n",
    "\n",
    "        if index == len(right):\n",
    "            return WRONG\n",
    "\n",
    "        result = check(left[index], right[index])\n",
    "\n",
    "        if not result == NEXT:\n",
    "            return result\n",
    "\n",
    "    return NEXT"
   ]
  },
  {
   "cell_type": "code",
   "execution_count": 87,
   "metadata": {},
   "outputs": [
    {
     "data": {
      "text/plain": [
       "5938"
      ]
     },
     "execution_count": 87,
     "metadata": {},
     "output_type": "execute_result"
    }
   ],
   "source": [
    "index = 1\n",
    "answer = 0\n",
    "\n",
    "for pair in pairs:\n",
    "    if check(*pair) == CORRECT:\n",
    "        answer += index\n",
    "\n",
    "    index += 1\n",
    "\n",
    "answer"
   ]
  },
  {
   "cell_type": "code",
   "execution_count": 88,
   "metadata": {},
   "outputs": [
    {
     "data": {
      "text/plain": [
       "29025"
      ]
     },
     "execution_count": 88,
     "metadata": {},
     "output_type": "execute_result"
    }
   ],
   "source": [
    "import functools\n",
    "\n",
    "dividers  = [[[2]], [[6]]]\n",
    "packets = dividers.copy()\n",
    "\n",
    "for pair in pairs:\n",
    "    packets.extend(pair)\n",
    "\n",
    "packets.sort(key=functools.cmp_to_key(check))\n",
    "\n",
    "answer = 1\n",
    "\n",
    "for index, packet in enumerate(packets):\n",
    "    if str(packet) in map(str, dividers):\n",
    "        answer *= (index + 1)\n",
    "    \n",
    "answer"
   ]
  }
 ],
 "metadata": {
  "kernelspec": {
   "display_name": "Python 3",
   "language": "python",
   "name": "python3"
  },
  "language_info": {
   "codemirror_mode": {
    "name": "ipython",
    "version": 3
   },
   "file_extension": ".py",
   "mimetype": "text/x-python",
   "name": "python",
   "nbconvert_exporter": "python",
   "pygments_lexer": "ipython3",
   "version": "3.9.16"
  },
  "orig_nbformat": 4,
  "vscode": {
   "interpreter": {
    "hash": "12ca00db4270a7b089476646ae7465d2a5aebdce74e8cedfe4cf672610d87b70"
   }
  }
 },
 "nbformat": 4,
 "nbformat_minor": 2
}
