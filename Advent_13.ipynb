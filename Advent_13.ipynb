{
 "cells": [
  {
   "cell_type": "code",
   "execution_count": 1,
   "metadata": {},
   "outputs": [],
   "source": [
    "file = open('data/13.txt', 'r')\n",
    "data = file.read().split('\\n\\n')\n",
    "\n",
    "file.close()"
   ]
  },
  {
   "cell_type": "code",
   "execution_count": 2,
   "metadata": {},
   "outputs": [],
   "source": [
    "pairs = []\n",
    "\n",
    "for pair in data:\n",
    "    pairs.append(list(map(eval, pair.splitlines())))"
   ]
  },
  {
   "cell_type": "code",
   "execution_count": 3,
   "metadata": {},
   "outputs": [],
   "source": [
    "CORRECT, NEXT, WRONG = -1, 0, 1\n",
    "\n",
    "def check(left, right):\n",
    "    match (left, right):\n",
    "        case int(left), int(right):\n",
    "            if left < right:\n",
    "                return CORRECT\n",
    "\n",
    "            if left == right:\n",
    "                return NEXT\n",
    "\n",
    "            return WRONG\n",
    "        case int(left), list(right):\n",
    "            left = [left]\n",
    "        case list(left), int(right):\n",
    "            right = [right]\n",
    "            \n",
    "    for index in range(max(len(left), len(right))):\n",
    "        if index == len(left):\n",
    "            return CORRECT\n",
    "\n",
    "        if index == len(right):\n",
    "            return WRONG\n",
    "\n",
    "        result = check(left[index], right[index])\n",
    "\n",
    "        if not result == NEXT:\n",
    "            return result\n",
    "\n",
    "    return NEXT"
   ]
  },
  {
   "cell_type": "code",
   "execution_count": 4,
   "metadata": {},
   "outputs": [
    {
     "data": {
      "text/plain": [
       "5938"
      ]
     },
     "execution_count": 4,
     "metadata": {},
     "output_type": "execute_result"
    }
   ],
   "source": [
    "index = 1\n",
    "answer = 0\n",
    "\n",
    "for pair in pairs:\n",
    "    if check(*pair) == CORRECT:\n",
    "        answer += index\n",
    "\n",
    "    index += 1\n",
    "\n",
    "answer"
   ]
  },
  {
   "cell_type": "code",
   "execution_count": 5,
   "metadata": {},
   "outputs": [
    {
     "data": {
      "text/plain": [
       "29025"
      ]
     },
     "execution_count": 5,
     "metadata": {},
     "output_type": "execute_result"
    }
   ],
   "source": [
    "import functools\n",
    "\n",
    "dividers  = [[[2]], [[6]]]\n",
    "packets = dividers.copy()\n",
    "\n",
    "for pair in pairs:\n",
    "    packets.extend(pair)\n",
    "\n",
    "packets.sort(key=functools.cmp_to_key(check))\n",
    "\n",
    "index = 1\n",
    "answer = 1\n",
    "\n",
    "for packet in packets:\n",
    "    if str(packet) in map(str, dividers):\n",
    "        answer *= index\n",
    "    \n",
    "    index += 1\n",
    "\n",
    "answer"
   ]
  }
 ],
 "metadata": {
  "kernelspec": {
   "display_name": "Python 3.10.8 64-bit",
   "language": "python",
   "name": "python3"
  },
  "language_info": {
   "codemirror_mode": {
    "name": "ipython",
    "version": 3
   },
   "file_extension": ".py",
   "mimetype": "text/x-python",
   "name": "python",
   "nbconvert_exporter": "python",
   "pygments_lexer": "ipython3",
   "version": "3.10.8"
  },
  "orig_nbformat": 4,
  "vscode": {
   "interpreter": {
    "hash": "b0fa6594d8f4cbf19f97940f81e996739fb7646882a419484c72d19e05852a7e"
   }
  }
 },
 "nbformat": 4,
 "nbformat_minor": 2
}
