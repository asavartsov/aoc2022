{
 "cells": [
  {
   "cell_type": "code",
   "execution_count": 16,
   "metadata": {},
   "outputs": [],
   "source": [
    "file = open('data/02.txt', 'r')\n",
    "data = file.read()\n",
    "\n",
    "file.close()"
   ]
  },
  {
   "cell_type": "code",
   "execution_count": 17,
   "metadata": {},
   "outputs": [],
   "source": [
    "# Rock defeats Scissors, Scissors defeats Paper, and Paper defeats Rock\n",
    "# AX Rock 1, BY Paper 2, CZ Scissors 3\n",
    "# Win 6, Draw 3, Lose 0\n",
    "\n",
    "wins = {\n",
    "    'A X': (4, 4),\n",
    "    'A Y': (1, 8),\n",
    "    'A Z': (7, 3),\n",
    "    'B X': (8, 1),\n",
    "    'B Y': (5, 5),\n",
    "    'B Z': (2, 9),\n",
    "    'C X': (3, 7),\n",
    "    'C Y': (9, 2),\n",
    "    'C Z': (6, 6),\n",
    "}\n"
   ]
  },
  {
   "cell_type": "code",
   "execution_count": 18,
   "metadata": {},
   "outputs": [
    {
     "data": {
      "text/plain": [
       "17189"
      ]
     },
     "execution_count": 18,
     "metadata": {},
     "output_type": "execute_result"
    }
   ],
   "source": [
    "sum([wins[line][1] for line in data.splitlines()])"
   ]
  },
  {
   "cell_type": "code",
   "execution_count": 19,
   "metadata": {},
   "outputs": [],
   "source": [
    "# Rock defeats Scissors, Scissors defeats Paper, and Paper defeats Rock\n",
    "# A Rock 1, B Paper 2, C Scissors 3\n",
    "# Z Win 6, Y Draw 3, Z Lose 0\n",
    "\n",
    "wins = {\n",
    "    'A X': (7, 3),\n",
    "    'A Y': (4, 4),\n",
    "    'A Z': (1, 8),\n",
    "    'B X': (8, 1),\n",
    "    'B Y': (5, 5),\n",
    "    'B Z': (2, 9),\n",
    "    'C X': (9, 2),\n",
    "    'C Y': (6, 6),\n",
    "    'C Z': (3, 7),\n",
    "}"
   ]
  },
  {
   "cell_type": "code",
   "execution_count": 20,
   "metadata": {},
   "outputs": [
    {
     "data": {
      "text/plain": [
       "13490"
      ]
     },
     "execution_count": 20,
     "metadata": {},
     "output_type": "execute_result"
    }
   ],
   "source": [
    "sum([wins[line][1] for line in data.splitlines()])"
   ]
  }
 ],
 "metadata": {
  "kernelspec": {
   "display_name": "Python 3",
   "language": "python",
   "name": "python3"
  },
  "language_info": {
   "codemirror_mode": {
    "name": "ipython",
    "version": 3
   },
   "file_extension": ".py",
   "mimetype": "text/x-python",
   "name": "python",
   "nbconvert_exporter": "python",
   "pygments_lexer": "ipython3",
   "version": "3.9.16"
  },
  "orig_nbformat": 4,
  "vscode": {
   "interpreter": {
    "hash": "12ca00db4270a7b089476646ae7465d2a5aebdce74e8cedfe4cf672610d87b70"
   }
  }
 },
 "nbformat": 4,
 "nbformat_minor": 2
}
