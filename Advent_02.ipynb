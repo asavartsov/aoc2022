{
 "cells": [
  {
   "cell_type": "code",
   "execution_count": 23,
   "metadata": {},
   "outputs": [],
   "source": [
    "file = open('data/02.txt', 'r')\n",
    "data = file.read()\n",
    "\n",
    "file.close()"
   ]
  },
  {
   "cell_type": "code",
   "execution_count": 24,
   "metadata": {},
   "outputs": [],
   "source": [
    "# Rock defeats Scissors, Scissors defeats Paper, and Paper defeats Rock\n",
    "# AX Rock 1, BY Paper 2, CZ Scissors 3\n",
    "# Win 6, Draw 3, Lose 0\n",
    "\n",
    "wins = {\n",
    "    'A X': (4, 4),\n",
    "    'A Y': (1, 8),\n",
    "    'A Z': (7, 3),\n",
    "    'B X': (8, 1),\n",
    "    'B Y': (5, 5),\n",
    "    'B Z': (2, 9),\n",
    "    'C X': (3, 7),\n",
    "    'C Y': (9, 2),\n",
    "    'C Z': (6, 6),\n",
    "}\n"
   ]
  },
  {
   "cell_type": "code",
   "execution_count": 25,
   "metadata": {},
   "outputs": [
    {
     "name": "stdout",
     "output_type": "stream",
     "text": [
      "7250\n",
      "17189\n"
     ]
    }
   ],
   "source": [
    "opponent_score = 0\n",
    "my_score = 0\n",
    "\n",
    "for line in data.splitlines():\n",
    "    scores = wins[line]\n",
    "    opponent_score += scores[0]\n",
    "    my_score += scores[1]\n",
    "\n",
    "print(opponent_score)    \n",
    "print(my_score)    "
   ]
  },
  {
   "cell_type": "code",
   "execution_count": 26,
   "metadata": {},
   "outputs": [],
   "source": [
    "# Rock defeats Scissors, Scissors defeats Paper, and Paper defeats Rock\n",
    "# A Rock 1, B Paper 2, C Scissors 3\n",
    "# Z Win 6, Y Draw 3, Z Lose 0\n",
    "\n",
    "wins = {\n",
    "    'A X': (7, 3),\n",
    "    'A Y': (4, 4),\n",
    "    'A Z': (1, 8),\n",
    "    'B X': (8, 1),\n",
    "    'B Y': (5, 5),\n",
    "    'B Z': (2, 9),\n",
    "    'C X': (9, 2),\n",
    "    'C Y': (6, 6),\n",
    "    'C Z': (3, 7),\n",
    "}"
   ]
  },
  {
   "cell_type": "code",
   "execution_count": 27,
   "metadata": {},
   "outputs": [
    {
     "name": "stdout",
     "output_type": "stream",
     "text": [
      "10355\n",
      "13490\n"
     ]
    }
   ],
   "source": [
    "opponent_score = 0\n",
    "my_score = 0\n",
    "\n",
    "for line in data.splitlines():\n",
    "    scores = wins[line]\n",
    "    opponent_score += scores[0]\n",
    "    my_score += scores[1]\n",
    "\n",
    "print(opponent_score)    \n",
    "print(my_score)"
   ]
  }
 ],
 "metadata": {
  "kernelspec": {
   "display_name": "Python 3.10.8 64-bit",
   "language": "python",
   "name": "python3"
  },
  "language_info": {
   "codemirror_mode": {
    "name": "ipython",
    "version": 3
   },
   "file_extension": ".py",
   "mimetype": "text/x-python",
   "name": "python",
   "nbconvert_exporter": "python",
   "pygments_lexer": "ipython3",
   "version": "3.10.8"
  },
  "orig_nbformat": 4,
  "vscode": {
   "interpreter": {
    "hash": "b0fa6594d8f4cbf19f97940f81e996739fb7646882a419484c72d19e05852a7e"
   }
  }
 },
 "nbformat": 4,
 "nbformat_minor": 2
}
