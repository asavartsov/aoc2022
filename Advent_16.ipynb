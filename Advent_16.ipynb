{
 "cells": [
  {
   "cell_type": "code",
   "execution_count": 125,
   "metadata": {},
   "outputs": [],
   "source": [
    "import re\n",
    "import networkx\n",
    "\n",
    "file = open('data/16.txt', 'r')\n",
    "data = file.read()\n",
    "\n",
    "file.close()"
   ]
  },
  {
   "cell_type": "code",
   "execution_count": 126,
   "metadata": {},
   "outputs": [],
   "source": [
    "rates = {}\n",
    "G = networkx.DiGraph()\n",
    "\n",
    "for line in data.splitlines():\n",
    "    rate = int(re.findall(r'\\d+', line).pop())\n",
    "    valve, *tunnels = re.findall(r'[A-Z]{2}', line)\n",
    "\n",
    "    rates[valve] = rate\n",
    "\n",
    "    for next in tunnels:\n",
    "        G.add_edge(valve, next)"
   ]
  },
  {
   "cell_type": "code",
   "execution_count": 127,
   "metadata": {},
   "outputs": [],
   "source": [
    "def get_all_paths(start):\n",
    "    paths = []\n",
    "    \n",
    "    for valve in rates:\n",
    "        if rates[valve] == 0:\n",
    "            continue\n",
    "\n",
    "        path = networkx.shortest_path(G, start, valve)\n",
    "        \n",
    "        if len(path) > 1:\n",
    "            paths.append(path)\n",
    "\n",
    "    return paths\n",
    "\n",
    "def get_pressure(route, time):\n",
    "    flow, timer, pressure = 0, 0, 0\n",
    "    \n",
    "    for path in route:\n",
    "        timer += len(path)\n",
    "        pressure += flow * len(path)\n",
    "        flow += rates[path[-1]]\n",
    "        \n",
    "    return pressure + flow * (time - timer)"
   ]
  },
  {
   "cell_type": "code",
   "execution_count": 128,
   "metadata": {},
   "outputs": [
    {
     "data": {
      "text/plain": [
       "1638"
      ]
     },
     "execution_count": 128,
     "metadata": {},
     "output_type": "execute_result"
    }
   ],
   "source": [
    "all_paths = {}\n",
    "all_movements = []\n",
    "all_pressures = []\n",
    "\n",
    "for _, (valve, rate) in enumerate(rates.items()):\n",
    "    all_paths[valve] = get_all_paths(valve)\n",
    "\n",
    "def find_routes(current_route, start, open_valves, max_length):\n",
    "    for path in all_paths[start]:\n",
    "        open_valve = path[-1]\n",
    "\n",
    "        if open_valve in open_valves:\n",
    "            continue\n",
    "\n",
    "        new_route = current_route + [path]\n",
    "\n",
    "        if len(sum(new_route, [])) > max_length:\n",
    "            continue\n",
    "\n",
    "        all_movements.append(set([p[-1] for p in new_route]))\n",
    "        all_pressures.append(get_pressure(new_route, max_length))\n",
    "        find_routes(new_route, open_valve, open_valves + [open_valve], max_length)\n",
    "\n",
    "find_routes([], 'AA', [], 30)\n",
    "\n",
    "max(all_pressures)"
   ]
  },
  {
   "cell_type": "code",
   "execution_count": 129,
   "metadata": {},
   "outputs": [
    {
     "data": {
      "text/plain": [
       "2400"
      ]
     },
     "execution_count": 129,
     "metadata": {},
     "output_type": "execute_result"
    }
   ],
   "source": [
    "import itertools\n",
    "\n",
    "all_movements = []\n",
    "all_pressures = []\n",
    "\n",
    "find_routes([], 'AA', [], 26)\n",
    "\n",
    "max_pressure = 0\n",
    "\n",
    "for p1, p2 in itertools.combinations(range(len(all_movements)), 2):\n",
    "    pressure = all_pressures[p1] + all_pressures[p2]\n",
    "\n",
    "    if pressure > max_pressure and len(all_movements[p1] & all_movements[p2]) == 0:\n",
    "        max_pressure = pressure\n",
    "    \n",
    "max_pressure"
   ]
  }
 ],
 "metadata": {
  "kernelspec": {
   "display_name": "Python 3.10.8 64-bit",
   "language": "python",
   "name": "python3"
  },
  "language_info": {
   "codemirror_mode": {
    "name": "ipython",
    "version": 3
   },
   "file_extension": ".py",
   "mimetype": "text/x-python",
   "name": "python",
   "nbconvert_exporter": "python",
   "pygments_lexer": "ipython3",
   "version": "3.10.8 (main, Oct 13 2022, 09:48:40) [Clang 14.0.0 (clang-1400.0.29.102)]"
  },
  "orig_nbformat": 4,
  "vscode": {
   "interpreter": {
    "hash": "b0fa6594d8f4cbf19f97940f81e996739fb7646882a419484c72d19e05852a7e"
   }
  }
 },
 "nbformat": 4,
 "nbformat_minor": 2
}
