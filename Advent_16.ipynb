{
 "cells": [
  {
   "cell_type": "code",
   "execution_count": 29,
   "metadata": {},
   "outputs": [],
   "source": [
    "import re\n",
    "import networkx\n",
    "from collections import deque\n",
    "\n",
    "file = open('data/16.txt', 'r')\n",
    "data = file.read()\n",
    "\n",
    "file.close()"
   ]
  },
  {
   "cell_type": "code",
   "execution_count": 30,
   "metadata": {},
   "outputs": [],
   "source": [
    "rates = {}\n",
    "G = networkx.DiGraph()\n",
    "\n",
    "for line in data.splitlines():\n",
    "    rate = int(re.findall(r'\\d+', line).pop())\n",
    "    valve, *tunnels = re.findall(r'[A-Z]{2}', line)\n",
    "\n",
    "    rates[valve] = rate\n",
    "\n",
    "    for next in tunnels:\n",
    "        G.add_edge(valve, next)"
   ]
  },
  {
   "cell_type": "code",
   "execution_count": 31,
   "metadata": {},
   "outputs": [],
   "source": [
    "def get_next_valves(start):\n",
    "    for valve in rates:\n",
    "        if rates[valve] == 0:\n",
    "            continue\n",
    "\n",
    "        path = networkx.shortest_path(G, start, valve)\n",
    "        \n",
    "        if len(path) > 1:\n",
    "            yield path[-1], len(path)\n",
    "\n",
    "\n",
    "def get_pressure(valves, time):\n",
    "    flow, timer, pressure = 0, 0, 0\n",
    "    \n",
    "    for valve, distance in valves.items():\n",
    "        timer += distance\n",
    "        pressure += flow * distance\n",
    "        flow += rates[valve]\n",
    "        \n",
    "    return pressure + flow * (time - timer)"
   ]
  },
  {
   "cell_type": "code",
   "execution_count": 32,
   "metadata": {},
   "outputs": [],
   "source": [
    "map = { valve: dict(get_next_valves(valve)) for valve in rates.keys() }"
   ]
  },
  {
   "cell_type": "code",
   "execution_count": 33,
   "metadata": {},
   "outputs": [
    {
     "data": {
      "text/plain": [
       "1638"
      ]
     },
     "execution_count": 33,
     "metadata": {},
     "output_type": "execute_result"
    }
   ],
   "source": [
    "def find_routes(time):\n",
    "    queue = deque([({}, 'AA')])\n",
    "\n",
    "    while queue:\n",
    "        valves, start = queue.pop()\n",
    "\n",
    "        for valve, distance in map[start].items():\n",
    "            if valve in valves:\n",
    "                continue\n",
    "\n",
    "            if sum(valves.values()) > time - distance:\n",
    "                continue\n",
    "\n",
    "            new = valves | { valve: distance }\n",
    "            queue.append((new, valve))\n",
    "            yield get_pressure(new, time), new.keys()\n",
    "\n",
    "max(p for p, _ in find_routes(30))"
   ]
  },
  {
   "cell_type": "code",
   "execution_count": 34,
   "metadata": {},
   "outputs": [
    {
     "data": {
      "text/plain": [
       "2400"
      ]
     },
     "execution_count": 34,
     "metadata": {},
     "output_type": "execute_result"
    }
   ],
   "source": [
    "history = list(find_routes(26))\n",
    "\n",
    "max_pressure = 0\n",
    "\n",
    "for p1, v1 in history:\n",
    "    for p2, v2 in history:\n",
    "        pressure = p1 + p2\n",
    "\n",
    "        if pressure > max_pressure and not v1 & v2:\n",
    "            max_pressure = pressure\n",
    "\n",
    "max_pressure"
   ]
  }
 ],
 "metadata": {
  "kernelspec": {
   "display_name": "Python 3",
   "language": "python",
   "name": "python3"
  },
  "language_info": {
   "codemirror_mode": {
    "name": "ipython",
    "version": 3
   },
   "file_extension": ".py",
   "mimetype": "text/x-python",
   "name": "python",
   "nbconvert_exporter": "python",
   "pygments_lexer": "ipython3",
   "version": "3.9.16"
  },
  "orig_nbformat": 4,
  "vscode": {
   "interpreter": {
    "hash": "12ca00db4270a7b089476646ae7465d2a5aebdce74e8cedfe4cf672610d87b70"
   }
  }
 },
 "nbformat": 4,
 "nbformat_minor": 2
}
