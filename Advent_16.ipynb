{
 "cells": [
  {
   "cell_type": "code",
   "execution_count": 340,
   "metadata": {},
   "outputs": [],
   "source": [
    "import re\n",
    "import networkx\n",
    "\n",
    "file = open('data/16.txt', 'r')\n",
    "data = file.read()\n",
    "\n",
    "file.close()"
   ]
  },
  {
   "cell_type": "code",
   "execution_count": 341,
   "metadata": {},
   "outputs": [],
   "source": [
    "rates = {}\n",
    "G = networkx.DiGraph()\n",
    "\n",
    "for line in data.splitlines():\n",
    "    rate = int(re.findall(r'\\d+', line).pop())\n",
    "    valve, *tunnels = re.findall(r'[A-Z]{2}', line)\n",
    "\n",
    "    rates[valve] = rate\n",
    "    \n",
    "    for next in tunnels:\n",
    "        G.add_edge(valve, next)"
   ]
  },
  {
   "cell_type": "code",
   "execution_count": 342,
   "metadata": {},
   "outputs": [],
   "source": [
    "import functools\n",
    "import operator\n",
    "\n",
    "all_paths = {}\n",
    "\n",
    "def get_all_paths(start):\n",
    "    paths = []\n",
    "    \n",
    "    for valve in rates:\n",
    "        if rates[valve] == 0:\n",
    "            continue\n",
    "\n",
    "        path = networkx.shortest_path(G, start, valve)\n",
    "        paths.append(path)\n",
    "\n",
    "    return paths\n",
    "\n",
    "def get_pressure(route):\n",
    "    flow, timer, pressure = 0, 0, 0\n",
    "    \n",
    "    for path in route:\n",
    "        timer += len(path)\n",
    "        pressure += flow * len(path)\n",
    "        flow += rates[path[-1]]\n",
    "        \n",
    "    pressure += flow * (30 - timer)\n",
    "\n",
    "    return pressure"
   ]
  },
  {
   "cell_type": "code",
   "execution_count": 343,
   "metadata": {},
   "outputs": [
    {
     "data": {
      "text/plain": [
       "1638"
      ]
     },
     "execution_count": 343,
     "metadata": {},
     "output_type": "execute_result"
    }
   ],
   "source": [
    "pressures = set()\n",
    "\n",
    "for _, (valve, rate) in enumerate(rates.items()):\n",
    "    all_paths[valve] = get_all_paths(valve)\n",
    "\n",
    "def find_routes(current_route, start, open_valves):\n",
    "    for path in all_paths[start]:\n",
    "        open_valve = path[-1]\n",
    "\n",
    "        if open_valve in open_valves:\n",
    "            continue\n",
    "\n",
    "        new_route = current_route + [path]\n",
    "\n",
    "        if len(sum(new_route, [])) > 30:\n",
    "            continue\n",
    "\n",
    "        pressures.add(get_pressure(new_route))\n",
    "        find_routes(new_route, open_valve, open_valves + [open_valve])\n",
    "\n",
    "find_routes([], 'AA', [])\n",
    "\n",
    "max(pressures)"
   ]
  }
 ],
 "metadata": {
  "kernelspec": {
   "display_name": "Python 3.10.8 64-bit",
   "language": "python",
   "name": "python3"
  },
  "language_info": {
   "codemirror_mode": {
    "name": "ipython",
    "version": 3
   },
   "file_extension": ".py",
   "mimetype": "text/x-python",
   "name": "python",
   "nbconvert_exporter": "python",
   "pygments_lexer": "ipython3",
   "version": "3.10.8"
  },
  "orig_nbformat": 4,
  "vscode": {
   "interpreter": {
    "hash": "b0fa6594d8f4cbf19f97940f81e996739fb7646882a419484c72d19e05852a7e"
   }
  }
 },
 "nbformat": 4,
 "nbformat_minor": 2
}
