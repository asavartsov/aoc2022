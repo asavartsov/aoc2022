{
 "cells": [
  {
   "cell_type": "code",
   "execution_count": 1947,
   "metadata": {},
   "outputs": [],
   "source": [
    "import numpy\n",
    "\n",
    "file = open('data/11.txt', 'r')\n",
    "data = file.read()\n",
    "\n",
    "file.close()"
   ]
  },
  {
   "cell_type": "code",
   "execution_count": 1948,
   "metadata": {},
   "outputs": [],
   "source": [
    "class Operation:\n",
    "    OPERATIONS = {\n",
    "            '+': lambda a, b: a + b,\n",
    "            '*': lambda a, b: a * b,\n",
    "    }\n",
    "\n",
    "    def __init__(self, left, op, right) -> None:\n",
    "        self.left = left\n",
    "        self.right = right\n",
    "        self.op = op\n",
    "\n",
    "    def perform(self, old):\n",
    "        a = old if self.left == 'old' else int(self.left)\n",
    "        b = old if self.right == 'old' else int(self.right)\n",
    "\n",
    "        return self.OPERATIONS[self.op](a, b)\n",
    "\n",
    "    def is_pow(self):\n",
    "        return self.left == 'old' and self.left == 'old' and self.op == '*'\n",
    "\n",
    "class Monkey:\n",
    "    def __init__(self) -> None:\n",
    "        self.n = 0\n",
    "        self.operation = None\n",
    "        self.items = []\n",
    "        self.test = 1\n",
    "        self.monkeys = [0, 0]\n",
    "        self.inspected = 0"
   ]
  },
  {
   "cell_type": "code",
   "execution_count": 1949,
   "metadata": {},
   "outputs": [],
   "source": [
    "import re\n",
    "\n",
    "def chunks(list, n):\n",
    "    for i in range(0, len(list), n):\n",
    "        yield list[i:i + n]\n",
    "\n",
    "def get_numbers(str):\n",
    "    return list(map(int, re.findall('\\\\d+', str)))\n",
    "\n",
    "def parse_monkey(lines):\n",
    "    monkey = Monkey()\n",
    "    \n",
    "    monkey.n = get_numbers(lines[0]).pop()\n",
    "    monkey.items = get_numbers(lines[1])\n",
    "    monkey.operation = Operation(*lines[2].replace('  Operation: new = ', '').split(' '))\n",
    "    monkey.test = get_numbers(lines[3]).pop()\n",
    "    monkey.monkeys = [\n",
    "        get_numbers(lines[4]).pop(),\n",
    "        get_numbers(lines[5]).pop(),\n",
    "    ]\n",
    "\n",
    "    return monkey"
   ]
  },
  {
   "cell_type": "code",
   "execution_count": 1950,
   "metadata": {},
   "outputs": [],
   "source": [
    "monkeys = []\n",
    "\n",
    "import math\n",
    "\n",
    "def perform_round(no_worries: bool):\n",
    "    # Monkey 0:\n",
    "    for monkey in monkeys:\n",
    "        # Monkey inspects an item with a worry level of 79.\n",
    "        for item in monkey.items:\n",
    "            monkey.inspected += 1\n",
    "\n",
    "            # Worry level is multiplied by 19 to 1501.\n",
    "            item = monkey.operation.perform(item)\n",
    "\n",
    "            if no_worries:\n",
    "                # Monkey gets bored with item. Worry level is divided by 3 to 500.\n",
    "                item //= 3\n",
    "            elif monkey.operation.is_pow():\n",
    "                # All test values are primes in this task, so multiplication will work too\n",
    "                keep_divided_by = math.lcm(*map(lambda m: m.test, monkeys))\n",
    "                item %= keep_divided_by\n",
    "\n",
    "            # Current worry level is not divisible by 23.\n",
    "            throw_to = monkey.monkeys[1 if item % monkey.test else 0]\n",
    "            \n",
    "            # Item with worry level 500 is thrown to monkey 3.\n",
    "            monkeys[throw_to].items.append(item)\n",
    "            \n",
    "\n",
    "        monkey.items.clear()"
   ]
  },
  {
   "cell_type": "markdown",
   "metadata": {},
   "source": [
    "# Star 1\n",
    "\n",
    "20 rounds, divide worries by 3"
   ]
  },
  {
   "cell_type": "code",
   "execution_count": 1951,
   "metadata": {},
   "outputs": [
    {
     "name": "stdout",
     "output_type": "stream",
     "text": [
      "[228, 218, 20, 48, 55, 211, 188, 222]\n"
     ]
    },
    {
     "data": {
      "text/plain": [
       "50616"
      ]
     },
     "execution_count": 1951,
     "metadata": {},
     "output_type": "execute_result"
    }
   ],
   "source": [
    "monkeys_data = chunks(data.splitlines(), 7)\n",
    "monkeys = list(map(parse_monkey, monkeys_data))\n",
    "\n",
    "rounds = 20\n",
    "no_worries = True\n",
    "\n",
    "for _ in range(rounds):\n",
    "    perform_round(no_worries)\n",
    "\n",
    "inspected = []\n",
    "\n",
    "for monkey in monkeys:\n",
    "    inspected.append(monkey.inspected)\n",
    "\n",
    "print(inspected)\n",
    "numpy.prod(sorted(inspected)[-2:])"
   ]
  },
  {
   "cell_type": "markdown",
   "metadata": {},
   "source": [
    "# Star 2\n",
    "\n",
    "10 000 rounds, do not divide worries, reduce _pow_ to _pow modulo lcm of all test values_"
   ]
  },
  {
   "cell_type": "code",
   "execution_count": 1952,
   "metadata": {},
   "outputs": [
    {
     "name": "stdout",
     "output_type": "stream",
     "text": [
      "[106346, 98133, 49031, 16402, 106342, 65512, 98135, 81799]\n"
     ]
    },
    {
     "data": {
      "text/plain": [
       "11309046332"
      ]
     },
     "execution_count": 1952,
     "metadata": {},
     "output_type": "execute_result"
    }
   ],
   "source": [
    "monkeys_data = chunks(data.splitlines(), 7)\n",
    "monkeys = list(map(parse_monkey, monkeys_data))\n",
    "\n",
    "rounds = 10_000\n",
    "no_worries = False\n",
    "\n",
    "for _ in range(rounds):\n",
    "    perform_round(no_worries)\n",
    "\n",
    "inspected = []\n",
    "\n",
    "for monkey in monkeys:\n",
    "    inspected.append(monkey.inspected)\n",
    "\n",
    "print(inspected)\n",
    "numpy.prod(sorted(inspected)[-2:])"
   ]
  }
 ],
 "metadata": {
  "kernelspec": {
   "display_name": "Python 3.10.8 64-bit",
   "language": "python",
   "name": "python3"
  },
  "language_info": {
   "codemirror_mode": {
    "name": "ipython",
    "version": 3
   },
   "file_extension": ".py",
   "mimetype": "text/x-python",
   "name": "python",
   "nbconvert_exporter": "python",
   "pygments_lexer": "ipython3",
   "version": "3.10.8"
  },
  "orig_nbformat": 4,
  "vscode": {
   "interpreter": {
    "hash": "b0fa6594d8f4cbf19f97940f81e996739fb7646882a419484c72d19e05852a7e"
   }
  }
 },
 "nbformat": 4,
 "nbformat_minor": 2
}
