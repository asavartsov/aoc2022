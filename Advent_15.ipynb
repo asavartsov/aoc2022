{
 "cells": [
  {
   "cell_type": "code",
   "execution_count": 8,
   "metadata": {},
   "outputs": [],
   "source": [
    "import numpy\n",
    "import re\n",
    "\n",
    "file = open('data/15.txt', 'r')\n",
    "data = file.read()\n",
    "\n",
    "file.close()"
   ]
  },
  {
   "cell_type": "code",
   "execution_count": 9,
   "metadata": {},
   "outputs": [],
   "source": [
    "sensors = set()\n",
    "beacons = set()\n",
    "minx, maxx = 0, 0\n",
    "\n",
    "distance = lambda x1, y1, x2, y2: abs(x1 - x2) + abs(y1 - y2)\n",
    "\n",
    "for line in data.splitlines():\n",
    "    sx, sy, bx, by = list(map(int, re.findall('-?\\\\d+', line)))\n",
    "    d = distance(sx, sy, bx, by)\n",
    "\n",
    "    sensors.add((sx, sy, d))\n",
    "    beacons.add((bx, by))\n",
    "\n",
    "    minx = min(minx, sx - d)\n",
    "    maxx = max(maxx, sx + d)\n"
   ]
  },
  {
   "cell_type": "code",
   "execution_count": 10,
   "metadata": {},
   "outputs": [
    {
     "data": {
      "text/plain": [
       "5607466"
      ]
     },
     "execution_count": 10,
     "metadata": {},
     "output_type": "execute_result"
    }
   ],
   "source": [
    "y = 2000000\n",
    "count = 0\n",
    "\n",
    "for x in range(minx, maxx):\n",
    "    if (x, y) in beacons:\n",
    "        continue\n",
    "\n",
    "    for sx, sy, d in sensors:        \n",
    "        if distance(x, y, sx, sy) <= d:\n",
    "            count += 1\n",
    "            break\n",
    "\n",
    "count"
   ]
  },
  {
   "cell_type": "code",
   "execution_count": 43,
   "metadata": {},
   "outputs": [
    {
     "data": {
      "text/plain": [
       "12543202766584"
      ]
     },
     "execution_count": 43,
     "metadata": {},
     "output_type": "execute_result"
    }
   ],
   "source": [
    "limit = 4000000\n",
    "point = None\n",
    "\n",
    "y = 0\n",
    "while y <= limit and not point:\n",
    "    x = 0\n",
    "    while x <= limit and not point:\n",
    "        point = (x, y)\n",
    "\n",
    "        for sx, sy, d in sensors:\n",
    "            if distance(x, y, sx, sy) <= d:\n",
    "                # Skip the distance to the edge of the area of the sensor\n",
    "                #    [from center to edge] + [from x to center]\n",
    "                x += d - abs(sy - y) + (sx - x) \n",
    "                point = None\n",
    "                break\n",
    "        x += 1\n",
    "    y += 1\n",
    "\n",
    "point[0] * 4000000 + point[1]"
   ]
  }
 ],
 "metadata": {
  "kernelspec": {
   "display_name": "Python 3.10.8 64-bit",
   "language": "python",
   "name": "python3"
  },
  "language_info": {
   "codemirror_mode": {
    "name": "ipython",
    "version": 3
   },
   "file_extension": ".py",
   "mimetype": "text/x-python",
   "name": "python",
   "nbconvert_exporter": "python",
   "pygments_lexer": "ipython3",
   "version": "3.10.8"
  },
  "orig_nbformat": 4,
  "vscode": {
   "interpreter": {
    "hash": "b0fa6594d8f4cbf19f97940f81e996739fb7646882a419484c72d19e05852a7e"
   }
  }
 },
 "nbformat": 4,
 "nbformat_minor": 2
}
