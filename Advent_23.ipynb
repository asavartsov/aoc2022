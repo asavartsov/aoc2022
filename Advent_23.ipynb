{
 "cells": [
  {
   "cell_type": "code",
   "execution_count": 164,
   "metadata": {},
   "outputs": [],
   "source": [
    "import numpy\n",
    "import itertools\n",
    "\n",
    "file = open('data/23.txt', 'r')\n",
    "data = file.read()\n",
    "\n",
    "file.close()"
   ]
  },
  {
   "cell_type": "code",
   "execution_count": 165,
   "metadata": {},
   "outputs": [],
   "source": [
    "moves = {}\n",
    "elves = {}\n",
    "\n",
    "directions = [\n",
    "    [-1 + 0j, -1 - 1j, -1 + 1j], # N, NE, NW\n",
    "    [ 1 + 0j,  1 - 1j,  1 + 1j], # S, SE, SW\n",
    "    [ 0 - 1j, -1 - 1j,  1 - 1j], # W, NW, SW\n",
    "    [ 0 + 1j, -1 + 1j,  1 + 1j]  # E, NE, SE\n",
    "]\n",
    "\n",
    "neighours = set(itertools.chain(*directions))"
   ]
  },
  {
   "cell_type": "code",
   "execution_count": 166,
   "metadata": {},
   "outputs": [],
   "source": [
    "def get_empty_cells():\n",
    "    xmax = max(map(lambda x: int(x.imag), elves.keys()))\n",
    "    xmin = min(map(lambda x: int(x.imag), elves.keys()))\n",
    "    ymax = max(map(lambda x: int(x.real), elves.keys()))\n",
    "    ymin = min(map(lambda x: int(x.real), elves.keys()))\n",
    "\n",
    "    return (ymax - ymin + 1) * (xmax - xmin + 1) - len(elves)\n",
    "\n",
    "def has_neighbours(elf):\n",
    "    return any([elf + n in elves for n in neighours])\n",
    "\n",
    "def choose(elf, direction):\n",
    "    for _ in range(4):\n",
    "        if all([elf + n not in elves for n in directions[direction]]):\n",
    "            return elf + directions[direction][0]\n",
    "\n",
    "        direction = (direction + 1) % 4\n",
    "    return None\n",
    "\n",
    "def diffuse(direction):\n",
    "    moves = {}\n",
    "\n",
    "    for elf, name in elves.items():\n",
    "        if has_neighbours(elf) and (moveto := choose(elf, direction)) is not None:\n",
    "            moves[elf] = moveto\n",
    "\n",
    "    if not (movesto := list(moves.values())):\n",
    "        return False \n",
    "\n",
    "    for elf, moveto in moves.items():\n",
    "        if movesto.count(moveto) == 1:\n",
    "            elves[moveto] = elves.pop(elf)\n",
    "\n",
    "    return True"
   ]
  },
  {
   "cell_type": "code",
   "execution_count": 167,
   "metadata": {},
   "outputs": [
    {
     "data": {
      "text/plain": [
       "3762"
      ]
     },
     "execution_count": 167,
     "metadata": {},
     "output_type": "execute_result"
    }
   ],
   "source": [
    "elves = {}\n",
    "start = 0\n",
    "\n",
    "for y, line in enumerate(data.splitlines()):\n",
    "    elves |= { y + x * 1j: 0 for x, c in enumerate(line) if c == '#' }\n",
    "\n",
    "for _ in range(10):\n",
    "    diffuse(start)\n",
    "    start = (start + 1) % 4\n",
    "\n",
    "get_empty_cells()"
   ]
  },
  {
   "cell_type": "code",
   "execution_count": 168,
   "metadata": {},
   "outputs": [
    {
     "data": {
      "text/plain": [
       "997"
      ]
     },
     "execution_count": 168,
     "metadata": {},
     "output_type": "execute_result"
    }
   ],
   "source": [
    "elves = {}\n",
    "start = 0\n",
    "rounds = 1\n",
    "\n",
    "for y, line in enumerate(data.splitlines()):\n",
    "    elves |= { y + x * 1j: 0 for x, c in enumerate(line) if c == '#' }\n",
    "    \n",
    "while diffuse(start):\n",
    "    start = (start + 1) % 4\n",
    "    rounds += 1\n",
    "\n",
    "rounds"
   ]
  }
 ],
 "metadata": {
  "kernelspec": {
   "display_name": "Python 3",
   "language": "python",
   "name": "python3"
  },
  "language_info": {
   "codemirror_mode": {
    "name": "ipython",
    "version": 3
   },
   "file_extension": ".py",
   "mimetype": "text/x-python",
   "name": "python",
   "nbconvert_exporter": "python",
   "pygments_lexer": "ipython3",
   "version": "3.9.16"
  },
  "orig_nbformat": 4,
  "vscode": {
   "interpreter": {
    "hash": "12ca00db4270a7b089476646ae7465d2a5aebdce74e8cedfe4cf672610d87b70"
   }
  }
 },
 "nbformat": 4,
 "nbformat_minor": 2
}
