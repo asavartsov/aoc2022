{
 "cells": [
  {
   "cell_type": "code",
   "execution_count": 182,
   "metadata": {},
   "outputs": [],
   "source": [
    "import numpy\n",
    "import re\n",
    "\n",
    "file = open('data/17.txt', 'r')\n",
    "data = file.read()\n",
    "\n",
    "file.close()"
   ]
  },
  {
   "cell_type": "code",
   "execution_count": 183,
   "metadata": {},
   "outputs": [],
   "source": [
    "cave = numpy.zeros(shape=(2022*4, 7), dtype=numpy.int8)\n",
    "gas = list(map(lambda c: ord(c) - 61, data))\n",
    "current_y = cave.shape[0]\n",
    "\n",
    "shapes = [\n",
    "    numpy.array([\n",
    "        [1, 1, 1, 1]\n",
    "    ]),\n",
    "    numpy.array([ \n",
    "        [0, 1, 0],\n",
    "        [1, 1, 1],\n",
    "        [0, 1, 0],\n",
    "    ]),\n",
    "    numpy.array([ \n",
    "        [0, 0, 1],\n",
    "        [0, 0, 1],\n",
    "        [1, 1, 1],\n",
    "    ]),\n",
    "    numpy.array([ \n",
    "        [1],\n",
    "        [1],\n",
    "        [1],\n",
    "        [1],\n",
    "    ]),\n",
    "    numpy.array([ \n",
    "        [1, 1],\n",
    "        [1, 1],\n",
    "    ]),\n",
    "]\n",
    "\n",
    "\n",
    "def test(x, y, shape):\n",
    "    h, w = shape.shape\n",
    "\n",
    "    if x < 0 or x + w > 7 or y + h > cave.shape[0]:\n",
    "        return False\n",
    "\n",
    "    return not numpy.any(cave[y:y + h, x:x + w] & shape)\n",
    "\n",
    "def drop(shape):\n",
    "    h, w = shape.shape\n",
    "    x, y = 2, current_y - 3 - h\n",
    "\n",
    "    while True:\n",
    "        shift = gas.pop(0)\n",
    "        gas.append(shift)\n",
    "\n",
    "        if (test(x + shift, y, shape)):\n",
    "            x += shift\n",
    "\n",
    "        if (test(x, y + 1, shape)):\n",
    "            y += 1\n",
    "        else:\n",
    "            break\n",
    "\n",
    "    cave[y:y + h, x:x + w] |= shape\n",
    "    return y"
   ]
  },
  {
   "cell_type": "markdown",
   "metadata": {},
   "source": [
    "# Star 1"
   ]
  },
  {
   "cell_type": "code",
   "execution_count": 184,
   "metadata": {},
   "outputs": [
    {
     "data": {
      "text/plain": [
       "3175"
      ]
     },
     "execution_count": 184,
     "metadata": {},
     "output_type": "execute_result"
    }
   ],
   "source": [
    "for rocks in range(2022):\n",
    "    current_y = min(current_y, drop(shapes[rocks % 5])) \n",
    "\n",
    "cave.shape[0] - current_y"
   ]
  },
  {
   "attachments": {},
   "cell_type": "markdown",
   "metadata": {},
   "source": [
    "# Start 2, easy way\n",
    "\n",
    "Just increase cycles, print last row of the map, current rock, wind position and height, find a pattern in text editor and do a simple math"
   ]
  },
  {
   "cell_type": "code",
   "execution_count": 185,
   "metadata": {},
   "outputs": [
    {
     "name": "stdout",
     "output_type": "stream",
     "text": [
      "Set hl to the true height at the rock 14400\n"
     ]
    },
    {
     "data": {
      "text/plain": [
       "1555113636385"
      ]
     },
     "execution_count": 185,
     "metadata": {},
     "output_type": "execute_result"
    }
   ],
   "source": [
    "rs = 14173 # Rock at cycle start\n",
    "re = 15933 # Rock at cycle end\n",
    "\n",
    "hs = 22083 # Height at cycle start\n",
    "he = 24820 # Height at cycle end\n",
    "\n",
    "\n",
    "rl = (1000000000000 - rs) % (re - rs) + rs # Target rock offset\n",
    "hl = 22415 # Total height at the target rock offset\n",
    "\n",
    "print('Set hl to the true height at the rock {0}'.format(rl))\n",
    "\n",
    "((1000000000000 - rs) // (re - rs)) * (he - hs) + hs + (hl - hs)\n"
   ]
  },
  {
   "attachments": {},
   "cell_type": "markdown",
   "metadata": {},
   "source": [
    "# Star 2, cycle detection\n",
    "\n",
    "Just for curiosity, let's do loop detection"
   ]
  },
  {
   "cell_type": "code",
   "execution_count": 186,
   "metadata": {},
   "outputs": [
    {
     "data": {
      "text/plain": [
       "1555113636385"
      ]
     },
     "execution_count": 186,
     "metadata": {},
     "output_type": "execute_result"
    }
   ],
   "source": [
    "cave = numpy.zeros(shape=(2022*4, 7), dtype=numpy.int8)\n",
    "gas = list(map(lambda c: ord(c) - 61, data))\n",
    "current_y = cave.shape[0]\n",
    "\n",
    "states = {}\n",
    "current_wind = 0\n",
    "current_height = 0\n",
    "cycle_hash = 0\n",
    "\n",
    "def drop(shape):\n",
    "    h, w = shape.shape\n",
    "    x, y = 2, current_y - 3 - h\n",
    "    wind = 0\n",
    "\n",
    "    while True:\n",
    "        shift = gas.pop(0)\n",
    "        gas.append(shift)\n",
    "        wind += 1\n",
    "\n",
    "        if (test(x + shift, y, shape)):\n",
    "            x += shift\n",
    "\n",
    "        if (test(x, y + 1, shape)):\n",
    "            y += 1\n",
    "        else:\n",
    "            break\n",
    "\n",
    "    cave[y:y + h, x:x + w] |= shape\n",
    "    return y, wind\n",
    "\n",
    "def get_result(state):\n",
    "    # Rock at the start and at the end of the cycle \n",
    "    rs, re = states[state][0], rocks\n",
    "\n",
    "    # Height at the start and at the end of the cycle\n",
    "    hs, he = states[state][1], current_height\n",
    "    \n",
    "    # Distance to the target rock\n",
    "    rl = (1000000000000 - rs) % (re - rs) + rs\n",
    "    hl = next((states[k][1] for k in states if states[k][0] == rl))\n",
    "\n",
    "    # Final math\n",
    "    return ((1000000000000 - rs) // (re - rs)) * (he - hs) + hl\n",
    "    \n",
    "\n",
    "for rocks in range(20000):\n",
    "    if rocks > 0:\n",
    "        state = hash(tuple(list(cave[current_y, :]) + [rocks % 5, current_wind]))\n",
    "        position = (rocks, current_height)\n",
    "\n",
    "        # Cycle looped, get result\n",
    "        if state == cycle_hash:\n",
    "            current_height = get_result(state)\n",
    "            break\n",
    "\n",
    "        # Cycle found, let it loop again\n",
    "        if cycle_hash == 0 and state in states:\n",
    "            cycle_hash = state\n",
    "\n",
    "        states[state] = position\n",
    "\n",
    "    y, wind = drop(shapes[rocks % 5])\n",
    "    current_y = min(y, current_y)\n",
    "\n",
    "    current_wind = (current_wind + wind) % len(gas)\n",
    "    current_height = cave.shape[0] - current_y\n",
    "\n",
    "current_height"
   ]
  }
 ],
 "metadata": {
  "kernelspec": {
   "display_name": "Python 3.10.8 64-bit",
   "language": "python",
   "name": "python3"
  },
  "language_info": {
   "codemirror_mode": {
    "name": "ipython",
    "version": 3
   },
   "file_extension": ".py",
   "mimetype": "text/x-python",
   "name": "python",
   "nbconvert_exporter": "python",
   "pygments_lexer": "ipython3",
   "version": "3.10.8"
  },
  "orig_nbformat": 4,
  "vscode": {
   "interpreter": {
    "hash": "b0fa6594d8f4cbf19f97940f81e996739fb7646882a419484c72d19e05852a7e"
   }
  }
 },
 "nbformat": 4,
 "nbformat_minor": 2
}
