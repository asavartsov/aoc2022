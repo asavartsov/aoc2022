{
 "cells": [
  {
   "cell_type": "code",
   "execution_count": 108,
   "metadata": {},
   "outputs": [],
   "source": [
    "import numpy\n",
    "\n",
    "file = open('data/10.txt', 'r')\n",
    "data = file.read()\n",
    "\n",
    "file.close()"
   ]
  },
  {
   "cell_type": "code",
   "execution_count": 109,
   "metadata": {},
   "outputs": [],
   "source": [
    "X = 1\n",
    "clock = 0\n",
    "\n",
    "checks = [20, 60, 100, 140, 180, 220]\n",
    "values = []\n",
    "\n",
    "def check_x():\n",
    "    if clock in checks:\n",
    "        values.append(X * clock)\n",
    "\n",
    "def draw_pixel():\n",
    "    x = (clock % 40) or 40\n",
    "\n",
    "    pixel = '#' if x in range(X, X + 3) else '.'\n",
    "    print(pixel, end='\\n' if x == 40 else '')\n",
    "\n",
    "def add_clock():\n",
    "    global clock\n",
    "\n",
    "    clock += 1\n",
    "    draw_pixel()\n",
    "    check_x()"
   ]
  },
  {
   "cell_type": "code",
   "execution_count": 110,
   "metadata": {},
   "outputs": [
    {
     "name": "stdout",
     "output_type": "stream",
     "text": [
      "####..##..####.#..#.####..##..#....###..\n",
      "#....#..#....#.#..#....#.#..#.#....#..#.\n",
      "###..#......#..#..#...#..#..#.#....#..#.\n",
      "#....#.....#...#..#..#...####.#....###..\n",
      "#....#..#.#....#..#.#....#..#.#....#.#..\n",
      "####..##..####..##..####.#..#.####.#..#.\n"
     ]
    },
    {
     "data": {
      "text/plain": [
       "16020"
      ]
     },
     "execution_count": 110,
     "metadata": {},
     "output_type": "execute_result"
    }
   ],
   "source": [
    "for line in data.splitlines():\n",
    "    command, *arguments = line.split(' ')\n",
    "\n",
    "    add_clock()\n",
    "\n",
    "    if command == 'addx':\n",
    "        add_clock()\n",
    "        X += int(arguments.pop())\n",
    "\n",
    "sum(values)"
   ]
  }
 ],
 "metadata": {
  "kernelspec": {
   "display_name": "Python 3.10.8 64-bit",
   "language": "python",
   "name": "python3"
  },
  "language_info": {
   "codemirror_mode": {
    "name": "ipython",
    "version": 3
   },
   "file_extension": ".py",
   "mimetype": "text/x-python",
   "name": "python",
   "nbconvert_exporter": "python",
   "pygments_lexer": "ipython3",
   "version": "3.10.8"
  },
  "orig_nbformat": 4,
  "vscode": {
   "interpreter": {
    "hash": "b0fa6594d8f4cbf19f97940f81e996739fb7646882a419484c72d19e05852a7e"
   }
  }
 },
 "nbformat": 4,
 "nbformat_minor": 2
}
