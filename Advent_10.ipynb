{
 "cells": [
  {
   "cell_type": "code",
   "execution_count": 110,
   "metadata": {},
   "outputs": [],
   "source": [
    "import numpy\n",
    "\n",
    "file = open('data/10.txt', 'r')\n",
    "data = file.read()\n",
    "\n",
    "file.close()"
   ]
  },
  {
   "cell_type": "code",
   "execution_count": 111,
   "metadata": {},
   "outputs": [],
   "source": [
    "X = 1\n",
    "clock = 0\n",
    "\n",
    "checks = [20, 60, 100, 140, 180, 220]\n",
    "values = []\n",
    "\n",
    "def check_x():\n",
    "    if clock in checks:\n",
    "        values.append(X * clock)\n",
    "\n",
    "def draw_pixel():\n",
    "    x = (clock % 40) or 40\n",
    "\n",
    "    pixel = '#' if x in range(X, X + 3) else '.'\n",
    "    print(pixel, end='\\n' if x == 40 else '')\n",
    "\n",
    "def add_clock():\n",
    "    global clock\n",
    "\n",
    "    clock += 1\n",
    "    draw_pixel()\n",
    "    check_x()\n",
    "\n",
    "\n",
    "def do_op(line):\n",
    "    global X\n",
    "\n",
    "    if line.startswith('noop'):\n",
    "        add_clock()\n",
    "\n",
    "    if line.startswith('addx'):\n",
    "        _, argument = line.split(' ')\n",
    "\n",
    "        for i in range(2):\n",
    "            add_clock()\n",
    "\n",
    "        X += int(argument)"
   ]
  },
  {
   "cell_type": "code",
   "execution_count": 112,
   "metadata": {},
   "outputs": [
    {
     "name": "stdout",
     "output_type": "stream",
     "text": [
      "####..##..####.#..#.####..##..#....###..\n",
      "#....#..#....#.#..#....#.#..#.#....#..#.\n",
      "###..#......#..#..#...#..#..#.#....#..#.\n",
      "#....#.....#...#..#..#...####.#....###..\n",
      "#....#..#.#....#..#.#....#..#.#....#.#..\n",
      "####..##..####..##..####.#..#.####.#..#.\n"
     ]
    },
    {
     "data": {
      "text/plain": [
       "16020"
      ]
     },
     "execution_count": 112,
     "metadata": {},
     "output_type": "execute_result"
    }
   ],
   "source": [
    "for line in data.splitlines():\n",
    "    do_op(line)\n",
    "\n",
    "sum(values)"
   ]
  }
 ],
 "metadata": {
  "kernelspec": {
   "display_name": "Python 3.10.8 64-bit",
   "language": "python",
   "name": "python3"
  },
  "language_info": {
   "codemirror_mode": {
    "name": "ipython",
    "version": 3
   },
   "file_extension": ".py",
   "mimetype": "text/x-python",
   "name": "python",
   "nbconvert_exporter": "python",
   "pygments_lexer": "ipython3",
   "version": "3.10.8"
  },
  "orig_nbformat": 4,
  "vscode": {
   "interpreter": {
    "hash": "b0fa6594d8f4cbf19f97940f81e996739fb7646882a419484c72d19e05852a7e"
   }
  }
 },
 "nbformat": 4,
 "nbformat_minor": 2
}
