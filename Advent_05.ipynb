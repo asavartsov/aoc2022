{
 "cells": [
  {
   "cell_type": "markdown",
   "metadata": {},
   "source": [
    "# Quick one"
   ]
  },
  {
   "cell_type": "code",
   "execution_count": 127,
   "metadata": {},
   "outputs": [],
   "source": [
    "import numpy\n",
    "\n",
    "file = open('data/05_moves.txt', 'r')\n",
    "data = file.read()\n",
    "\n",
    "file.close()"
   ]
  },
  {
   "cell_type": "code",
   "execution_count": 128,
   "metadata": {},
   "outputs": [],
   "source": [
    "stacks = [\n",
    "    ['V' , 'C' , 'W' , 'L' , 'R' , 'M' , 'F' , 'Q'],\n",
    "    ['L' , 'Q' , 'D'],\n",
    "    ['B' , 'N' , 'C' , 'W' , 'G' , 'R' , 'S' , 'P'],\n",
    "    ['G' , 'Q' , 'B' , 'H' , 'D' , 'C' , 'L'],\n",
    "    ['S' , 'Z' , 'F' , 'L' , 'G' , 'V'],\n",
    "    ['P' , 'N' , 'G' , 'D'],\n",
    "    ['W' , 'C' , 'F' , 'V' , 'P' , 'Z' , 'D'],\n",
    "    ['S' , 'M' , 'D' , 'P' , 'C'],\n",
    "    ['C' , 'P' , 'M' , 'V' , 'T' , 'W' , 'N' , 'Z'] \n",
    "]\n",
    "\n",
    "for i in range(9):\n",
    "    stacks[i].reverse()"
   ]
  },
  {
   "cell_type": "code",
   "execution_count": 129,
   "metadata": {},
   "outputs": [],
   "source": [
    "def move(source, destination, n):\n",
    "    stack_from = stacks[source - 1]\n",
    "    stack_to = stacks[destination - 1]\n",
    "\n",
    "    for _ in range(n):\n",
    "        item = stack_from.pop()\n",
    "        stack_to.append(item)"
   ]
  },
  {
   "cell_type": "code",
   "execution_count": 130,
   "metadata": {},
   "outputs": [],
   "source": [
    "def move9001(source, destination, n):\n",
    "    stack_from = stacks[source - 1]\n",
    "    stack_to = stacks[destination - 1]\n",
    "\n",
    "    stack_to.extend(stack_from[-n:])\n",
    "    del stack_from[-n:]\n"
   ]
  },
  {
   "cell_type": "code",
   "execution_count": 131,
   "metadata": {},
   "outputs": [
    {
     "name": "stdout",
     "output_type": "stream",
     "text": [
      "TCGLQSLPW"
     ]
    }
   ],
   "source": [
    "for line in data.splitlines():\n",
    "    [n, source, destination] = list(map(int, [*line.split(' ')]))\n",
    "\n",
    "    # move(source, destination, n)\n",
    "\n",
    "    move9001(source, destination, n)\n",
    "\n",
    "for i in range(9):\n",
    "    print(stacks[i].pop(), end='')"
   ]
  },
  {
   "cell_type": "markdown",
   "metadata": {},
   "source": [
    "# Generic with parser"
   ]
  },
  {
   "cell_type": "code",
   "execution_count": 132,
   "metadata": {},
   "outputs": [],
   "source": [
    "import numpy\n",
    "\n",
    "file = open('data/05.txt', 'r')\n",
    "data = file.read()\n",
    "\n",
    "file.close()"
   ]
  },
  {
   "cell_type": "code",
   "execution_count": 133,
   "metadata": {},
   "outputs": [],
   "source": [
    "import re\n",
    "\n",
    "stacks = {}\n",
    "\n",
    "def add_stack(line):\n",
    "    index = 0\n",
    "    start = 0\n",
    "\n",
    "    while start < len(line):\n",
    "        to = min(start + 4, len(line))\n",
    "        match = re.search(\"[A-Z]\", line[start:to])\n",
    "\n",
    "        if match:\n",
    "            stacks.setdefault(index, []).insert(0, match[0])\n",
    "\n",
    "        start += 4\n",
    "        index += 1\n",
    "            \n",
    "\n",
    "def add_move(line):\n",
    "    [_, n, _, source, _, destination] = line.split(' ')\n",
    "    \n",
    "    # move(int(source), int(destination), int(n))\n",
    "    move9001(int(source), int(destination), int(n))"
   ]
  },
  {
   "cell_type": "code",
   "execution_count": 134,
   "metadata": {},
   "outputs": [
    {
     "name": "stdout",
     "output_type": "stream",
     "text": [
      "TCGLQSLPW"
     ]
    }
   ],
   "source": [
    "for line in data.splitlines():\n",
    "    if line.startswith('['):\n",
    "        add_stack(line)\n",
    "\n",
    "    if line.startswith('move'):\n",
    "        add_move(line)\n",
    "\n",
    "for i in range(len(stacks)):\n",
    "    print(stacks[i].pop(), end='')"
   ]
  }
 ],
 "metadata": {
  "kernelspec": {
   "display_name": "Python 3.10.8 64-bit",
   "language": "python",
   "name": "python3"
  },
  "language_info": {
   "codemirror_mode": {
    "name": "ipython",
    "version": 3
   },
   "file_extension": ".py",
   "mimetype": "text/x-python",
   "name": "python",
   "nbconvert_exporter": "python",
   "pygments_lexer": "ipython3",
   "version": "3.10.8"
  },
  "orig_nbformat": 4,
  "vscode": {
   "interpreter": {
    "hash": "b0fa6594d8f4cbf19f97940f81e996739fb7646882a419484c72d19e05852a7e"
   }
  }
 },
 "nbformat": 4,
 "nbformat_minor": 2
}
