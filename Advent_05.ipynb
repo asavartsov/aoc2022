{
 "cells": [
  {
   "cell_type": "code",
   "execution_count": 31,
   "metadata": {},
   "outputs": [],
   "source": [
    "import numpy\n",
    "\n",
    "file = open('data/05.txt', 'r')\n",
    "data = file.read()\n",
    "\n",
    "file.close()"
   ]
  },
  {
   "cell_type": "code",
   "execution_count": 32,
   "metadata": {},
   "outputs": [],
   "source": [
    "stacks = {}"
   ]
  },
  {
   "cell_type": "code",
   "execution_count": 33,
   "metadata": {},
   "outputs": [],
   "source": [
    "def move(n, source, destination):\n",
    "    stack_from = stacks[source - 1]\n",
    "    stack_to = stacks[destination - 1]\n",
    "\n",
    "    for _ in range(n):\n",
    "        item = stack_from.pop()\n",
    "        stack_to.append(item)"
   ]
  },
  {
   "cell_type": "code",
   "execution_count": 34,
   "metadata": {},
   "outputs": [],
   "source": [
    "def move9001(n, source, destination):\n",
    "    stack_from = stacks[source - 1]\n",
    "    stack_to = stacks[destination - 1]\n",
    "\n",
    "    stack_to.extend(stack_from[-n:])\n",
    "    del stack_from[-n:]"
   ]
  },
  {
   "cell_type": "code",
   "execution_count": 35,
   "metadata": {},
   "outputs": [],
   "source": [
    "def add_stack(line):\n",
    "    index, start = 0, 0\n",
    "\n",
    "    while start < len(line):\n",
    "        match = line[start:][1]\n",
    "\n",
    "        if not match.isspace():\n",
    "            stacks.setdefault(index, []).insert(0, match)\n",
    "\n",
    "        start += 4\n",
    "        index += 1\n",
    "            \n",
    "def parse_move(line):\n",
    "    return map(int, line.split(' ')[1::2])"
   ]
  },
  {
   "cell_type": "code",
   "execution_count": 36,
   "metadata": {},
   "outputs": [
    {
     "name": "stdout",
     "output_type": "stream",
     "text": [
      "VWLCWGSDQ"
     ]
    }
   ],
   "source": [
    "for line in data.splitlines():\n",
    "    if line.startswith('move'):\n",
    "        move(*parse_move(line))\n",
    "    else:\n",
    "        add_stack(line)\n",
    "\n",
    "for i in range(len(stacks)):\n",
    "    print(stacks[i].pop(), end='')"
   ]
  },
  {
   "cell_type": "code",
   "execution_count": 37,
   "metadata": {},
   "outputs": [
    {
     "name": "stdout",
     "output_type": "stream",
     "text": [
      "GVBDFWRWB"
     ]
    }
   ],
   "source": [
    "for line in data.splitlines():\n",
    "    if line.startswith('move'):\n",
    "        move9001(*parse_move(line))\n",
    "    else:\n",
    "        add_stack(line)\n",
    "\n",
    "for i in range(len(stacks)):\n",
    "    print(stacks[i].pop(), end='')"
   ]
  }
 ],
 "metadata": {
  "kernelspec": {
   "display_name": "Python 3.10.8 64-bit",
   "language": "python",
   "name": "python3"
  },
  "language_info": {
   "codemirror_mode": {
    "name": "ipython",
    "version": 3
   },
   "file_extension": ".py",
   "mimetype": "text/x-python",
   "name": "python",
   "nbconvert_exporter": "python",
   "pygments_lexer": "ipython3",
   "version": "3.10.9"
  },
  "orig_nbformat": 4,
  "vscode": {
   "interpreter": {
    "hash": "b0fa6594d8f4cbf19f97940f81e996739fb7646882a419484c72d19e05852a7e"
   }
  }
 },
 "nbformat": 4,
 "nbformat_minor": 2
}
