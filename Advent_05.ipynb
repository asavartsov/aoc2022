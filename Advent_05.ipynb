{
 "cells": [
  {
   "cell_type": "code",
   "execution_count": 160,
   "metadata": {},
   "outputs": [],
   "source": [
    "import numpy\n",
    "\n",
    "file = open('data/05.txt', 'r')\n",
    "data = file.read()\n",
    "\n",
    "file.close()"
   ]
  },
  {
   "cell_type": "code",
   "execution_count": 161,
   "metadata": {},
   "outputs": [],
   "source": [
    "stacks = {}"
   ]
  },
  {
   "cell_type": "code",
   "execution_count": 162,
   "metadata": {},
   "outputs": [],
   "source": [
    "def move(source, destination, n):\n",
    "    stack_from = stacks[source - 1]\n",
    "    stack_to = stacks[destination - 1]\n",
    "\n",
    "    for _ in range(n):\n",
    "        item = stack_from.pop()\n",
    "        stack_to.append(item)"
   ]
  },
  {
   "cell_type": "code",
   "execution_count": 163,
   "metadata": {},
   "outputs": [],
   "source": [
    "def move9001(source, destination, n):\n",
    "    stack_from = stacks[source - 1]\n",
    "    stack_to = stacks[destination - 1]\n",
    "\n",
    "    stack_to.extend(stack_from[-n:])\n",
    "    del stack_from[-n:]\n"
   ]
  },
  {
   "cell_type": "code",
   "execution_count": 164,
   "metadata": {},
   "outputs": [],
   "source": [
    "def add_stack(line):\n",
    "    index, start = 0, 0\n",
    "\n",
    "    while start < len(line):\n",
    "        match = line[start:][1]\n",
    "\n",
    "        if not match.isspace():\n",
    "            stacks.setdefault(index, []).insert(0, match)\n",
    "\n",
    "        start += 4\n",
    "        index += 1\n",
    "            \n",
    "\n",
    "def add_move(line):\n",
    "    n, source, destination = map(int, line.split(' ')[1::2])\n",
    "    \n",
    "    # move(source, destination, n)\n",
    "    move9001(source, destination, n)"
   ]
  },
  {
   "cell_type": "code",
   "execution_count": 165,
   "metadata": {},
   "outputs": [
    {
     "name": "stdout",
     "output_type": "stream",
     "text": [
      "TCGLQSLPW"
     ]
    }
   ],
   "source": [
    "for line in data.splitlines():\n",
    "    if line.startswith('move'):\n",
    "        add_move(line)\n",
    "    else:\n",
    "        add_stack(line)\n",
    "\n",
    "for i in range(len(stacks)):\n",
    "    print(stacks[i].pop(), end='')"
   ]
  }
 ],
 "metadata": {
  "kernelspec": {
   "display_name": "Python 3.10.8 64-bit",
   "language": "python",
   "name": "python3"
  },
  "language_info": {
   "codemirror_mode": {
    "name": "ipython",
    "version": 3
   },
   "file_extension": ".py",
   "mimetype": "text/x-python",
   "name": "python",
   "nbconvert_exporter": "python",
   "pygments_lexer": "ipython3",
   "version": "3.10.8"
  },
  "orig_nbformat": 4,
  "vscode": {
   "interpreter": {
    "hash": "b0fa6594d8f4cbf19f97940f81e996739fb7646882a419484c72d19e05852a7e"
   }
  }
 },
 "nbformat": 4,
 "nbformat_minor": 2
}
