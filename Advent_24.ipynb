{
 "cells": [
  {
   "cell_type": "code",
   "execution_count": 1,
   "metadata": {},
   "outputs": [],
   "source": [
    "import re\n",
    "from functools import cache\n",
    "\n",
    "file = open('data/24.txt', 'r')\n",
    "data = file.read()\n",
    "\n",
    "file.close()"
   ]
  },
  {
   "cell_type": "code",
   "execution_count": 2,
   "metadata": {},
   "outputs": [],
   "source": [
    "lines = data.splitlines()\n",
    "\n",
    "blizzards = set()\n",
    "directions = [-1 + 0j, 1 + 0j, 0 - 1j, 0 + 1j, 0 + 0j]\n",
    "w, h = len(lines[0]), len(lines)\n",
    "\n",
    "start = 0 + lines[0].rfind('.') * 1j\n",
    "end = (h - 1) + lines[-1].rfind('.') * 1j\n",
    "\n",
    "get_direction = lambda d: dict(zip('^v<>', directions))[d]\n",
    "\n",
    "for y, line in enumerate(lines):\n",
    "    blizzards.update([(y + x * 1j, get_direction(d)) for x, d in enumerate(line) if ord(d) > ord('.')])"
   ]
  },
  {
   "cell_type": "code",
   "execution_count": 3,
   "metadata": {},
   "outputs": [],
   "source": [
    "wrap = lambda position: complex(\n",
    "        (position.real - 1) % (h - 2) + 1, \n",
    "        (position.imag - 1) % (w - 2) + 1\n",
    ")\n",
    "\n",
    "@cache\n",
    "def get_blizzards(step):\n",
    "    return set([wrap(position + direction * step) for position, direction in blizzards])\n",
    "\n",
    "def in_bounds(position):\n",
    "    if position == start or position == end:\n",
    "        return True\n",
    "\n",
    "    y, x = position.real, position.imag\n",
    "    return y > 0 and y < h - 1 and x > 0 and x < w - 1\n",
    "\n",
    "def neighbours(position, time):\n",
    "    movements = list(map(lambda direction: position + direction, directions))\n",
    "    blizzards = get_blizzards(time)\n",
    "\n",
    "    for neighbour in movements:\n",
    "        if in_bounds(neighbour) and not neighbour in blizzards:\n",
    "            yield neighbour"
   ]
  },
  {
   "cell_type": "code",
   "execution_count": 4,
   "metadata": {},
   "outputs": [
    {
     "data": {
      "text/plain": [
       "290"
      ]
     },
     "execution_count": 4,
     "metadata": {},
     "output_type": "execute_result"
    }
   ],
   "source": [
    "def bfs(start, end, time):\n",
    "  visited = set((start, time))\n",
    "  queue = [(start, time)]\n",
    "\n",
    "  while queue:\n",
    "    position, time = queue.pop(0)\n",
    "\n",
    "    for neighbour in neighbours(position, time):\n",
    "      if neighbour == end:\n",
    "        return time\n",
    "\n",
    "      candidate = (neighbour, time + 1)\n",
    "\n",
    "      if candidate not in visited:\n",
    "        queue.append(candidate)\n",
    "        visited.add(candidate)\n",
    "\n",
    "bfs(start, end, 1)"
   ]
  },
  {
   "cell_type": "code",
   "execution_count": 5,
   "metadata": {},
   "outputs": [
    {
     "data": {
      "text/plain": [
       "842"
      ]
     },
     "execution_count": 5,
     "metadata": {},
     "output_type": "execute_result"
    }
   ],
   "source": [
    "one = bfs(start, end, 1)\n",
    "two = bfs(end, start, one)\n",
    "\n",
    "bfs(start, end, two)"
   ]
  }
 ],
 "metadata": {
  "kernelspec": {
   "display_name": "Python 3",
   "language": "python",
   "name": "python3"
  },
  "language_info": {
   "codemirror_mode": {
    "name": "ipython",
    "version": 3
   },
   "file_extension": ".py",
   "mimetype": "text/x-python",
   "name": "python",
   "nbconvert_exporter": "python",
   "pygments_lexer": "ipython3",
   "version": "3.9.16"
  },
  "orig_nbformat": 4,
  "vscode": {
   "interpreter": {
    "hash": "12ca00db4270a7b089476646ae7465d2a5aebdce74e8cedfe4cf672610d87b70"
   }
  }
 },
 "nbformat": 4,
 "nbformat_minor": 2
}
