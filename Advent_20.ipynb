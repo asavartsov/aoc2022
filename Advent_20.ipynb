{
 "cells": [
  {
   "cell_type": "code",
   "execution_count": 74,
   "metadata": {},
   "outputs": [],
   "source": [
    "file = open('data/20.txt', 'r')\n",
    "data = file.read()\n",
    "\n",
    "file.close()"
   ]
  },
  {
   "cell_type": "code",
   "execution_count": 75,
   "metadata": {},
   "outputs": [
    {
     "data": {
      "text/plain": [
       "((1608, -2852, 8469), 7225)"
      ]
     },
     "execution_count": 75,
     "metadata": {},
     "output_type": "execute_result"
    }
   ],
   "source": [
    "numbers = []\n",
    "\n",
    "for line in data.splitlines():\n",
    "    numbers.append(int(line))\n",
    "\n",
    "mixed = [n for n in enumerate(numbers)]\n",
    "\n",
    "for n in enumerate(numbers):\n",
    "    current = mixed.index(n)\n",
    "    next = (current + n[1]) % (len(numbers) - 1)\n",
    "\n",
    "    if current != next:\n",
    "       mixed.insert(next, mixed.pop(current))\n",
    "\n",
    "mixed = [n[1] for n in mixed]\n",
    "\n",
    "coordinates = (\n",
    "    mixed[(mixed.index(0) + 1000) % len(mixed)], \n",
    "    mixed[(mixed.index(0) + 2000) % len(mixed)], \n",
    "    mixed[(mixed.index(0) + 3000) % len(mixed)]\n",
    ")\n",
    "\n",
    "coordinates, sum(coordinates)"
   ]
  },
  {
   "cell_type": "code",
   "execution_count": 76,
   "metadata": {},
   "outputs": [
    {
     "data": {
      "text/plain": [
       "((728807059394, 771821284503, -951994076469), 548634267428)"
      ]
     },
     "execution_count": 76,
     "metadata": {},
     "output_type": "execute_result"
    }
   ],
   "source": [
    "numbers = []\n",
    "\n",
    "for line in data.splitlines():\n",
    "    numbers.append(int(line) * 811589153)\n",
    "\n",
    "mixed = [n for n in enumerate(numbers)]\n",
    "\n",
    "for _ in range(10):\n",
    "    for n in enumerate(numbers):\n",
    "        current = mixed.index(n)\n",
    "        next = (current + n[1]) % (len(numbers) - 1)\n",
    "\n",
    "        if current != next:\n",
    "            mixed.insert(next, mixed.pop(current))\n",
    "\n",
    "mixed = [n[1] for n in mixed]\n",
    "\n",
    "coordinates = (\n",
    "    mixed[(mixed.index(0) + 1000) % len(mixed)], \n",
    "    mixed[(mixed.index(0) + 2000) % len(mixed)], \n",
    "    mixed[(mixed.index(0) + 3000) % len(mixed)]\n",
    ")\n",
    "\n",
    "coordinates, sum(coordinates)"
   ]
  }
 ],
 "metadata": {
  "kernelspec": {
   "display_name": "Python 3",
   "language": "python",
   "name": "python3"
  },
  "language_info": {
   "codemirror_mode": {
    "name": "ipython",
    "version": 3
   },
   "file_extension": ".py",
   "mimetype": "text/x-python",
   "name": "python",
   "nbconvert_exporter": "python",
   "pygments_lexer": "ipython3",
   "version": "3.9.16"
  },
  "orig_nbformat": 4,
  "vscode": {
   "interpreter": {
    "hash": "12ca00db4270a7b089476646ae7465d2a5aebdce74e8cedfe4cf672610d87b70"
   }
  }
 },
 "nbformat": 4,
 "nbformat_minor": 2
}
