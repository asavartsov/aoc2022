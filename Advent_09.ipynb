{
 "cells": [
  {
   "cell_type": "code",
   "execution_count": 315,
   "metadata": {},
   "outputs": [],
   "source": [
    "import numpy\n",
    "\n",
    "file = open('data/09.txt', 'r')\n",
    "data = file.read()\n",
    "\n",
    "file.close()"
   ]
  },
  {
   "cell_type": "code",
   "execution_count": 316,
   "metadata": {},
   "outputs": [],
   "source": [
    "head = [0, 0]\n",
    "tail = [0, 0]\n",
    "\n",
    "tail_visited = []"
   ]
  },
  {
   "cell_type": "code",
   "execution_count": 317,
   "metadata": {},
   "outputs": [],
   "source": [
    "def direction_to_coord(direction):\n",
    "    return {\n",
    "        'R': [ 1,  0],\n",
    "        'U': [ 0,  1],\n",
    "        'L': [-1,  0],\n",
    "        'D': [ 0, -1]\n",
    "    }[direction]"
   ]
  },
  {
   "cell_type": "code",
   "execution_count": 318,
   "metadata": {},
   "outputs": [],
   "source": [
    "def sign(x):\n",
    "    return 1 if x > 0 else -1 if x < 0 else 0\n",
    "\n",
    "def move_head(dx, dy):\n",
    "    head[0] += dx\n",
    "    head[1] += dy\n",
    "\n",
    "def move_tail():\n",
    "    dx = head[0] - tail[0]\n",
    "    dy = head[1] - tail[1]\n",
    "\n",
    "    if abs(dx) + abs(dy) == 3:\n",
    "        if abs(dx) > 1:\n",
    "            tail[0] = tail[0] + sign(dx)\n",
    "            tail[1] = head[1]\n",
    "\n",
    "        if abs(dy) > 1:\n",
    "            tail[0] = head[0]\n",
    "            tail[1] = tail[1] + sign(dy)\n",
    "\n",
    "        return\n",
    "\n",
    "    if abs(dx) > 1:\n",
    "        tail[0] += sign(dx)\n",
    "\n",
    "    if abs(dy) > 1:\n",
    "        tail[1] += sign(dy)\n"
   ]
  },
  {
   "cell_type": "markdown",
   "metadata": {},
   "source": [
    "# 1 knot rope"
   ]
  },
  {
   "cell_type": "code",
   "execution_count": 319,
   "metadata": {},
   "outputs": [],
   "source": [
    "def move(direction, steps):\n",
    "    [dx, dy] = direction_to_coord(direction)\n",
    "\n",
    "    for _ in range(steps):\n",
    "        move_head(dx, dy)\n",
    "        move_tail()\n",
    "        tail_visited.append(tail.copy())\n",
    "\n",
    "for line in data.splitlines():\n",
    "    [direction, steps] = line.split(' ')\n",
    "    move(direction, int(steps))\n",
    "\n",
    "tail_visited = numpy.unique(numpy.array(tail_visited), axis=0)\n",
    "\n",
    "len(tail_visited)"
   ]
  },
  {
   "cell_type": "markdown",
   "metadata": {},
   "source": [
    "# 10 knot rope"
   ]
  },
  {
   "cell_type": "code",
   "execution_count": 321,
   "metadata": {},
   "outputs": [
    {
     "data": {
      "text/plain": [
       "2384"
      ]
     },
     "execution_count": 321,
     "metadata": {},
     "output_type": "execute_result"
    }
   ],
   "source": [
    "rope = [\n",
    "    [0, 0],\n",
    "    [0, 0],\n",
    "    [0, 0],\n",
    "    [0, 0],\n",
    "    [0, 0],\n",
    "    [0, 0],\n",
    "    [0, 0],\n",
    "    [0, 0],\n",
    "    [0, 0],\n",
    "    [0, 0],\n",
    "]\n",
    "\n",
    "tail_visited = []\n",
    "\n",
    "def move_rope(direction, steps):\n",
    "    global head\n",
    "    global tail\n",
    "\n",
    "    [dx, dy] = direction_to_coord(direction)\n",
    "\n",
    "    for _ in range(steps):\n",
    "        head = rope[0]\n",
    "        tail = rope[1]\n",
    "\n",
    "        move_head(dx, dy)\n",
    "        move_tail()\n",
    "\n",
    "        for i in range (8):\n",
    "            head = rope[1 + i]\n",
    "            tail = rope[2 + i]\n",
    "            move_tail()\n",
    "    \n",
    "        tail_visited.append(tail.copy())\n",
    "\n",
    "for line in data.splitlines():\n",
    "    [direction, steps] = line.split(' ')\n",
    "    move_rope(direction, int(steps))\n",
    "\n",
    "tail_visited = numpy.unique(numpy.array(tail_visited), axis=0)\n",
    "\n",
    "len(tail_visited)"
   ]
  }
 ],
 "metadata": {
  "kernelspec": {
   "display_name": "Python 3.10.8 64-bit",
   "language": "python",
   "name": "python3"
  },
  "language_info": {
   "codemirror_mode": {
    "name": "ipython",
    "version": 3
   },
   "file_extension": ".py",
   "mimetype": "text/x-python",
   "name": "python",
   "nbconvert_exporter": "python",
   "pygments_lexer": "ipython3",
   "version": "3.10.8"
  },
  "orig_nbformat": 4,
  "vscode": {
   "interpreter": {
    "hash": "b0fa6594d8f4cbf19f97940f81e996739fb7646882a419484c72d19e05852a7e"
   }
  }
 },
 "nbformat": 4,
 "nbformat_minor": 2
}
