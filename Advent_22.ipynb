{
 "cells": [
  {
   "cell_type": "code",
   "execution_count": 1982,
   "metadata": {},
   "outputs": [],
   "source": [
    "import re\n",
    "import numpy\n",
    "from matplotlib import pyplot\n",
    "\n",
    "file = open('data/22.txt', 'r')\n",
    "data = file.read()\n",
    "\n",
    "file.close()"
   ]
  },
  {
   "cell_type": "code",
   "execution_count": 1983,
   "metadata": {},
   "outputs": [],
   "source": [
    "lines, path = [], []\n",
    "\n",
    "for line in data.splitlines():\n",
    "    if not line:\n",
    "        continue\n",
    "\n",
    "    if parsed := re.findall(r'(\\d+)([RL]?)', line):\n",
    "        path = parsed\n",
    "        continue\n",
    "\n",
    "    lines.append(line)"
   ]
  },
  {
   "cell_type": "code",
   "execution_count": 1984,
   "metadata": {},
   "outputs": [],
   "source": [
    "convert = lambda c: ord(c) - ord(' ')\n",
    "wall = convert('#')\n",
    "\n",
    "xmax, ymax = max(map(len, lines)), len(lines)\n",
    "field = numpy.zeros((ymax, xmax), numpy.int16)\n",
    "boundaries = numpy.zeros((2, max(ymax, xmax), 2), numpy.int32)\n",
    "\n",
    "rotations = {\n",
    "    '' : [[ 1,  0], [ 0,  1]], # 0\n",
    "    'R': [[ 0, -1], [ 1,  0]], # 90\n",
    "    'L': [[ 0,  1], [-1,  0]], # 270\n",
    "    'T': [[-1,  0], [ 0, -1]], # 180\n",
    "}"
   ]
  },
  {
   "cell_type": "code",
   "execution_count": 1985,
   "metadata": {},
   "outputs": [],
   "source": [
    "# Field\n",
    "for y, line in enumerate(lines):\n",
    "    field[y, :len(line)] = list(map(convert, line))\n",
    "\n",
    "# ymin, ymax boundaries for each x\n",
    "for x in range(xmax):\n",
    "    filled = numpy.flatnonzero(field[:, x])\n",
    "    boundaries[0, x] = [min(filled), max(filled)]\n",
    "\n",
    "# xmin, xmax boundaries for each y\n",
    "for y in range(ymax):\n",
    "    filled = numpy.flatnonzero(field[y, :])\n",
    "    boundaries[1, y] = [min(filled), max(filled)]"
   ]
  },
  {
   "cell_type": "code",
   "execution_count": 1986,
   "metadata": {},
   "outputs": [],
   "source": [
    "def rollaxis(x, bmin, bmax):\n",
    "    \"\"\"Respawn on the other end if out of bounds\"\"\"\n",
    "    if x > bmax: return bmin\n",
    "    if x < bmin: return bmax\n",
    "    return x\n",
    "\n",
    "    #return (x - bmin) % (bmax - bmin + 1) + bmin\n",
    "\n",
    "def wrap(y, x, direction):\n",
    "    \"\"\"Move in the direction and check OOB\"\"\"\n",
    "    y, x = [y, x] + direction\n",
    "    y = rollaxis(y, *boundaries[0, x]) if direction[0] else y\n",
    "    x = rollaxis(x, *boundaries[1, y]) if direction[1] else x\n",
    "\n",
    "    return y, x\n",
    "\n",
    "def facing(y, x):\n",
    "    \"\"\"Get `facing` number of the direction\"\"\"\n",
    "    return abs(y * 2 + x - 1)\n",
    "\n",
    "def password(y, x, direction):\n",
    "    \"\"\"Get `password` for given state\"\"\"\n",
    "    print (1000 * (y + 1) + 4 * (x + 1) + facing(*direction))\n",
    "\n",
    "def walk(position, direction, path):\n",
    "    \"\"\"Go through the path from starting position and direction to the end\"\"\"\n",
    "    for steps, rotate in path:\n",
    "        for _ in range(int(steps)):\n",
    "            y, x = wrap(*position, direction)\n",
    "\n",
    "            if field[y, x] == wall:\n",
    "                break\n",
    "\n",
    "            position = [y, x]\n",
    "\n",
    "        if rotate:\n",
    "            direction = numpy.matmul(direction, rotations[rotate])\n",
    "\n",
    "    return position, direction"
   ]
  },
  {
   "cell_type": "code",
   "execution_count": 1987,
   "metadata": {},
   "outputs": [
    {
     "name": "stdout",
     "output_type": "stream",
     "text": [
      "95358\n"
     ]
    }
   ],
   "source": [
    "position = [0, boundaries[1, 0, 0]]\n",
    "direction = numpy.array([0, 1], numpy.int8)\n",
    "\n",
    "position, direction = walk(position, direction, path)\n",
    "password(*position, direction)"
   ]
  },
  {
   "cell_type": "code",
   "execution_count": 1988,
   "metadata": {},
   "outputs": [],
   "source": [
    "size = 0,\n",
    "planes = []\n",
    "rotations3d = []"
   ]
  },
  {
   "cell_type": "code",
   "execution_count": 1989,
   "metadata": {},
   "outputs": [],
   "source": [
    "def to_local(y, x, plane):\n",
    "    [ymin, _], [xmin, _] = planes[plane]\n",
    "    return y - ymin, x - xmin\n",
    "\n",
    "def from_local(y, x, plane):\n",
    "    [ymin, _], [xmin, _] = planes[plane]\n",
    "    return y % size + ymin, x % size + xmin\n",
    "\n",
    "def get_plane(y, x):\n",
    "    for i in range(1, len(planes)):\n",
    "        if (planes[i][0][0] <= y <= planes[i][0][1] and \n",
    "            planes[i][1][0] <= x <= planes[i][1][1]):\n",
    "            return i\n",
    "\n",
    "    return None\n",
    "\n",
    "def rotcoord(y, x, rot):\n",
    "    rotvec = numpy.zeros((size, size), numpy.int8)\n",
    "    rotvec[y, x] = 1\n",
    "\n",
    "    if rot == 'L':\n",
    "        rotvec = numpy.rot90(rotvec, axes=(0, 1))\n",
    "    elif rot == 'T':\n",
    "        rotvec = numpy.rot90(rotvec, 2)\n",
    "    elif rot == 'R':\n",
    "        rotvec = numpy.rot90(rotvec, axes=(1, 0))\n",
    "\n",
    "    return numpy.argwhere(rotvec)[0]\n",
    "\n",
    "def rolllocal(x):\n",
    "    return rollaxis(x, 0, size - 1)\n",
    "\n",
    "def wrap3d(y, x, direction):\n",
    "    plane = get_plane(y, x)\n",
    "    local = to_local(y, x, plane)\n",
    "    new = local + direction\n",
    "\n",
    "    for axis in range(2):\n",
    "        if direction[axis]:\n",
    "            wrapped = rolllocal(new[axis])\n",
    "\n",
    "            if new[axis] != wrapped:\n",
    "                new[axis] = wrapped\n",
    "                plane, rot = rotations3d[axis][plane][0 if direction[axis] > 0 else 1]\n",
    "                direction = numpy.matmul(direction, rotations[rot])\n",
    "                new = rotcoord(*new, rot)\n",
    "\n",
    "    y, x = from_local(*new, plane)\n",
    "    return y, x, direction\n",
    "\n",
    "def walk3d(position, direction, path):\n",
    "    \"\"\"Go through the path from starting position and direction to the end\"\"\"\n",
    "    for steps, rotate in path:\n",
    "        for _ in range(int(steps)):\n",
    "            y, x, _direction = wrap3d(*position, direction)\n",
    "\n",
    "            if field[y, x] == wall:\n",
    "                break\n",
    "\n",
    "            direction = _direction\n",
    "            position = [y, x]\n",
    "\n",
    "        if rotate:\n",
    "            direction = numpy.matmul(direction, rotations[rotate])\n",
    "\n",
    "    return position, direction"
   ]
  },
  {
   "cell_type": "code",
   "execution_count": 1990,
   "metadata": {},
   "outputs": [],
   "source": [
    "size = 50\n",
    "position = [0, 50]\n",
    "direction = numpy.array([0, 1], numpy.int8)\n",
    "\n",
    "planes = [\n",
    "    [],\n",
    "    # ymin, ymax, xmin, xmax\n",
    "    [[0,        size - 1    ], [size,     size * 2 - 1]],\n",
    "    [[size,     size * 2 - 1], [size,     size * 2 - 1]],\n",
    "    [[size * 2, size * 3 - 1], [size,     size * 2 - 1]],\n",
    "    [[size * 2, size * 3 - 1], [0,        size - 1    ]],\n",
    "    [[size * 3, size * 4 - 1], [0,        size - 1    ]],\n",
    "    [[0,        size - 1    ], [size * 2, size * 3 - 1]]\n",
    "]\n",
    "\n",
    "rotations3d = [\n",
    "        # Up, down\n",
    "    [\n",
    "        [],\n",
    "        [[2, '' ], [5, 'R']], # 1\n",
    "        [[3, '' ], [1, '' ]], # 2\n",
    "        [[5, 'R'], [2, '' ]], # 3\n",
    "        [[5, '' ], [2, 'R']], # 4\n",
    "        [[6, '' ], [4, '' ]], # 5\n",
    "        [[2, 'R'], [5, '' ]]  # 6\n",
    "    ],\n",
    "        # Right, left\n",
    "    [\n",
    "        [],\n",
    "        [[6, '' ], [4, 'T']], # 1\n",
    "        [[6, 'L'], [4, 'L']], # 2\n",
    "        [[6, 'T'], [4, '' ]], # 3\n",
    "        [[3, '' ], [1, 'T']], # 4\n",
    "        [[3, 'L'], [1, 'L']], # 5\n",
    "        [[3, 'T'], [1, '' ]]  # 6\n",
    "    ],\n",
    "]"
   ]
  },
  {
   "cell_type": "code",
   "execution_count": 1991,
   "metadata": {},
   "outputs": [
    {
     "name": "stdout",
     "output_type": "stream",
     "text": [
      "144361\n"
     ]
    }
   ],
   "source": [
    "position, direction = walk3d(position, direction, path)\n",
    "password(*position, direction)"
   ]
  }
 ],
 "metadata": {
  "kernelspec": {
   "display_name": "Python 3",
   "language": "python",
   "name": "python3"
  },
  "language_info": {
   "codemirror_mode": {
    "name": "ipython",
    "version": 3
   },
   "file_extension": ".py",
   "mimetype": "text/x-python",
   "name": "python",
   "nbconvert_exporter": "python",
   "pygments_lexer": "ipython3",
   "version": "3.9.16"
  },
  "orig_nbformat": 4,
  "vscode": {
   "interpreter": {
    "hash": "12ca00db4270a7b089476646ae7465d2a5aebdce74e8cedfe4cf672610d87b70"
   }
  }
 },
 "nbformat": 4,
 "nbformat_minor": 2
}
