{
 "cells": [
  {
   "cell_type": "code",
   "execution_count": 5,
   "metadata": {},
   "outputs": [],
   "source": [
    "file = open('data/07.txt', 'r')\n",
    "data = file.read()\n",
    "\n",
    "file.close()"
   ]
  },
  {
   "cell_type": "code",
   "execution_count": 6,
   "metadata": {},
   "outputs": [],
   "source": [
    "total_sizes = {'/': 0}"
   ]
  },
  {
   "cell_type": "code",
   "execution_count": 7,
   "metadata": {},
   "outputs": [],
   "source": [
    "import os\n",
    "\n",
    "def do_cd(cd, cd_to):\n",
    "    if cd_to == '..':\n",
    "        return os.path.dirname(cd)\n",
    "    else:\n",
    "        return os.path.join(cd, cd_to)\n",
    "\n",
    "def add_file_size(cd, size):\n",
    "    total_sizes['/'] += size\n",
    "\n",
    "    while not cd == '/':\n",
    "        total_sizes.setdefault(cd, 0)\n",
    "        total_sizes[cd] += size\n",
    "        cd = do_cd(cd, '..')"
   ]
  },
  {
   "cell_type": "code",
   "execution_count": 8,
   "metadata": {},
   "outputs": [
    {
     "data": {
      "text/plain": [
       "1642503"
      ]
     },
     "execution_count": 8,
     "metadata": {},
     "output_type": "execute_result"
    }
   ],
   "source": [
    "cd = ''\n",
    "\n",
    "for line in data.splitlines():\n",
    "    if line.startswith('$ cd'):\n",
    "        cd_to = line.split(' ').pop()\n",
    "        cd = do_cd(cd, cd_to)\n",
    "    \n",
    "    if line[0].isdigit():\n",
    "        size = int(line.split(' ')[0])\n",
    "        add_file_size(cd, size)\n",
    "\n",
    "answer = 0\n",
    "\n",
    "for size in total_sizes.values():\n",
    "    if size <= 100000:\n",
    "        answer += size\n",
    "\n",
    "answer"
   ]
  },
  {
   "cell_type": "code",
   "execution_count": 9,
   "metadata": {},
   "outputs": [
    {
     "name": "stdout",
     "output_type": "stream",
     "text": [
      "6592386\n",
      "6999588\n"
     ]
    }
   ],
   "source": [
    "total = 70000000\n",
    "required = 30000000\n",
    "\n",
    "free = total - total_sizes['/']\n",
    "to_delete = required - free\n",
    "\n",
    "dir_size = total_sizes['/']\n",
    "\n",
    "for size in total_sizes.values():\n",
    "    if size >= to_delete and size < dir_size:\n",
    "        dir_size = size\n",
    "\n",
    "print(to_delete)\n",
    "print(dir_size)"
   ]
  }
 ],
 "metadata": {
  "kernelspec": {
   "display_name": "Python 3.10.8 64-bit",
   "language": "python",
   "name": "python3"
  },
  "language_info": {
   "codemirror_mode": {
    "name": "ipython",
    "version": 3
   },
   "file_extension": ".py",
   "mimetype": "text/x-python",
   "name": "python",
   "nbconvert_exporter": "python",
   "pygments_lexer": "ipython3",
   "version": "3.10.8"
  },
  "orig_nbformat": 4,
  "vscode": {
   "interpreter": {
    "hash": "b0fa6594d8f4cbf19f97940f81e996739fb7646882a419484c72d19e05852a7e"
   }
  }
 },
 "nbformat": 4,
 "nbformat_minor": 2
}
